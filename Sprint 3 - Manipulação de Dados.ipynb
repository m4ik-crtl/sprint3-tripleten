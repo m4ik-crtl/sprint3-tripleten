{
 "cells": [
  {
   "cell_type": "markdown",
   "id": "bc9065dd",
   "metadata": {},
   "source": [
    "Olá, Maikon\n",
    "\n",
    "Meu nome é Ramon. Fico feliz em revisar seu projeto. Ao ao longo do texto farei algumas observações sobre melhorias no código e também farei comentários sobre suas percepções sobre o assunto. Estarei aberto a feedbacks e discussões sobre o tema.\n",
    "\n",
    "**Peço que mantenha e não altere os comentários que eu fizer por aqui para que possamos nos localizar posteriormente, ok?**\n",
    "\n",
    "Mais uma coisa, vamos utilizar um código de cores para você entender os meus feedbacks no seu notebook. Funciona assim:\n",
    "\n",
    "<div class=\"alert alert-block alert-success\">\n",
    "<b> Comentário do revisor: </b> <a class=\"tocSkip\"></a>\n",
    "\n",
    "Sucesso. Tudo foi feito corretamente.\n",
    "</div>\n",
    "\n",
    "<div class=\"alert alert-block alert-warning\">\n",
    "<b>Comentário do revisor: </b> <a class=\"tocSkip\"></a>\n",
    "\n",
    "Alerta não crítco, mas que pode ser corrigido para melhoria geral no seu código/análise\n",
    "</div>\n",
    "\n",
    "<div class=\"alert alert-block alert-danger\">\n",
    "\n",
    "<b>Comentário do revisor: </b> <a class=\"tocSkip\"></a>\n",
    "    \n",
    "Erro que precisa ser consertado, caso contrário seu projeto **não** será aceito.\n",
    "</div>\n",
    "\n",
    "Você pode me responder usando isso:\n",
    "<div class=\"alert alert-block alert-info\">\n",
    "<b>Resposta do Aluno.</b> <a class=\"tocSkip\"></a>\n",
    "</div>\n",
    "\n",
    "###\n",
    "\n",
    "<div class=\"alert alert-block alert-success\">\n",
    "<b>Comentário Geral do Revisor</b> <a class=\"tocSkip\"></a>\n",
    "\n",
    "Obrigado por enviar seu projeto. \n",
    "    \n",
    "Parabéns, você fez um bom trabalho.\n",
    "\n",
    "Como pontos fortes do projeto, destaco:\n",
    "- Código simples e eficiente (sem loop desnecessário)\n",
    "- Uso adequado dos recursos da lição\n",
    "\n",
    "    \n",
    "<span class=\"text-danger\">Porém, há espaço para melhorias conforme os itens apontados anteriormente. Destaco os  pontos a seguir: </span>\n",
    " * <span class=\"text-danger\"> Ajustar uma questão e plotar 2 gráficos ausentes. </span>\n",
    "\n",
    "\n",
    "Portanto, sugiro que você corrija os pontos indicados.\n",
    "    \n",
    "Se você tiver alguma dúvida sobre de algo que você não tenha entendido, sinta-se à vontade para perguntar ao tutor ou deixar um comentário em **azul** para que, na próxima iteração, eu possa responder.\n",
    "\n",
    "Conte conosco. Lembre-se de que você pode tirar dúvidas com revisores usando os comentários ou buscar ajuda de um tutor.\n",
    "Bom trabalho.\n",
    "</div>\n",
    "\n",
    "###\n",
    "\n",
    "<div class=\"alert alert-block alert-info\">\n",
    "<b>Resposta do Aluno.</b> <a class=\"tocSkip\"></a>\n",
    "    <p> Ajustes feitos e obrigado pela Revisão, me avise se precisar de mais alguma alteração!</p>\n",
    "</div>"
   ]
  },
  {
   "cell_type": "markdown",
   "id": "dadf8733",
   "metadata": {},
   "source": [
    "<div class=\"alert alert-block alert-success\">\n",
    "<b> Comentário final do revisor: </b> <a class=\"tocSkip\"></a>\n",
    "\n",
    "Tudo certo agora. Deixei uma explicação sobre a plotagem de um gráfico. Desejo sucesso na jornada. Parabéns pelo empenho.\n",
    "</div>"
   ]
  },
  {
   "cell_type": "markdown",
   "id": "3Xg_RQfnafXz",
   "metadata": {
    "id": "3Xg_RQfnafXz"
   },
   "source": [
    "\n",
    "\n",
    "\n",
    "# Vamos encher o carrinho!"
   ]
  },
  {
   "cell_type": "markdown",
   "id": "mhIvmmkW414q",
   "metadata": {
    "id": "mhIvmmkW414q"
   },
   "source": [
    "# Introdução\n",
    "\n",
    "O Instacart é uma plataforma de entrega de supermercado onde os clientes podem fazer um pedido no supermercado e depois receber sua compra, semelhante ao funcionamento do Uber Eats e do iFood. O conjunto de dados que fornecemos foi modificado a partir do original. Reduzimos o tamanho dele para que seus cálculos sejam executados mais rapidamente e incluímos valores ausentes e duplicados. Também tivemos o cuidado de preservar as distribuições dos dados originais quando fizemos as alterações.\n",
    "\n",
    "Você precisa completar três etapas. Para cada uma delas, escreva uma breve introdução descrevendo como você pretende concluir a etapa e justifique suas decisões em parágrafos explicativos a medida que você avança na solução. Escreva também uma conclusão para resumir suas conclusões e escolhas.\n",
    "\n"
   ]
  },
  {
   "cell_type": "markdown",
   "id": "3MbyzpOQZ5Or",
   "metadata": {
    "id": "3MbyzpOQZ5Or"
   },
   "source": [
    "## Dicionário de dados\n",
    "\n",
    "Há cinco tabelas no conjunto de dados, e você vai precisar usar todas elas para pré-processar seus dados e fazer AED. Abaixo está um dicionário que lista as colunas de cada tabela e descreve os dados contidos nelas.\n",
    "\n",
    "- `instacart_orders.csv`: cada linha corresponde a um pedido no aplicativo da Instacart\n",
    "    - `'order_id'`: é o número que identifica cada pedido de forma exclusiva\n",
    "    - `'user_id'`: é o número de identificação exclusivo da conta de cada cliente\n",
    "    - `'order_number'`: é o número de vezes que o cliente fez um pedido\n",
    "    - `'order_dow'`: é o dia da semana em que o pedido foi feito (0 é domingo)\n",
    "    - `'order_hour_of_day'`: é a hora do dia em que o pedido foi feito\n",
    "    - `'days_since_prior_order'`: é o número de dias desde que o cliente fez seu pedido anterior\n",
    "\n",
    "\n",
    "\n",
    "\n",
    "- `products.csv`: cada linha corresponde a um produto exclusivo que os clientes podem comprar\n",
    "    - `'product_id'`: é o número de identificação unívoco de cada produto\n",
    "    - `'product_name'`: é o nome do produto\n",
    "    - `'aisle_id'`: é o número de identificação exclusivo de cada categoria de corredor do supermercado\n",
    "    - `'department_id'`: é o número de identificação exclusivo de cada categoria de departamento do supermercado\n",
    "\n",
    "\n",
    "\n",
    "\n",
    "-\t`order_products.csv`: cada linha corresponde a um item incluído em um pedido\n",
    "    -\t`'order_id'`: é o número que identifica cada pedido de forma exclusiva\n",
    "    -\t`'product_id'`: é o número de identificação exclusivo de cada produto\n",
    "    -\t`'add_to_cart_order'`: é a ordem sequencial em que cada item foi colocado no carrinho\n",
    "    -\t`'reordered'`: 0 se o cliente nunca comprou o produto antes, 1 se já o comprou\n",
    "\n",
    "\n",
    "\n",
    "\n",
    "-\t`aisles.csv`\n",
    "    -\t`'aisle_id'`: é o número de identificação exclusivo de cada categoria de corredor do supermercado\n",
    "    -\t`'aisle'`: é o nome do corredor\n",
    "\n",
    "\n",
    "\n",
    "-\t`departments.csv`\n",
    "    -\t`'department_id'`: é o número de identificação exclusivo de cada categoria de departamento do supermercado\n",
    "    -\t`'department'`: é o nome do departamento\n"
   ]
  },
  {
   "cell_type": "markdown",
   "id": "n3Ha_cNSZ8lK",
   "metadata": {
    "id": "n3Ha_cNSZ8lK"
   },
   "source": [
    "# Etapa 1. Visão geral dos dados\n",
    "\n",
    "Leia os arquivos de dados (/datasets/instacart_orders.csv, /datasets/products.csv, /datasets/aisles.csv, /datasets/departments.csv e /datasets/order_products.csv) com `pd.read_csv()` usando os parâmetros apropriados para fazer isso corretamente. Verifique as informações para cada DataFrame criado.\n"
   ]
  },
  {
   "cell_type": "markdown",
   "id": "OmlQPLlyaAfR",
   "metadata": {
    "id": "OmlQPLlyaAfR"
   },
   "source": [
    "## Plano de solução\n",
    "\n",
    "Escreva aqui seu plano para a Etapa 2. Visão geral dos dados"
   ]
  },
  {
   "cell_type": "code",
   "execution_count": 1,
   "id": "fbf1adab",
   "metadata": {
    "id": "fbf1adab"
   },
   "outputs": [],
   "source": [
    "# Importe as bibliotecas\n",
    "import pandas as pd\n",
    "import numpy as np \n",
    "import matplotlib.pyplot as plt "
   ]
  },
  {
   "cell_type": "code",
   "execution_count": 2,
   "id": "ad36396d",
   "metadata": {
    "id": "ad36396d"
   },
   "outputs": [],
   "source": [
    "# leia os conjuntos de dados em DataFrames\n",
    "instacart_orders = pd.read_csv(\"/datasets/instacart_orders.csv\", sep=\";\")\n",
    "products = pd.read_csv(\"/datasets/products.csv\", sep=\";\")\n",
    "order_products = pd.read_csv(\"/datasets/order_products.csv\", sep=\";\")\n",
    "aisles = pd.read_csv(\"/datasets/aisles.csv\", sep=\";\")\n",
    "departments = pd.read_csv(\"/datasets/departments.csv\", sep=\";\")"
   ]
  },
  {
   "cell_type": "code",
   "execution_count": 3,
   "id": "ad6a1efa",
   "metadata": {
    "id": "ad6a1efa"
   },
   "outputs": [
    {
     "name": "stdout",
     "output_type": "stream",
     "text": [
      "Instacart Orders Info:\n",
      "<class 'pandas.core.frame.DataFrame'>\n",
      "RangeIndex: 478967 entries, 0 to 478966\n",
      "Data columns (total 6 columns):\n",
      " #   Column                  Non-Null Count   Dtype  \n",
      "---  ------                  --------------   -----  \n",
      " 0   order_id                478967 non-null  int64  \n",
      " 1   user_id                 478967 non-null  int64  \n",
      " 2   order_number            478967 non-null  int64  \n",
      " 3   order_dow               478967 non-null  int64  \n",
      " 4   order_hour_of_day       478967 non-null  int64  \n",
      " 5   days_since_prior_order  450148 non-null  float64\n",
      "dtypes: float64(1), int64(5)\n",
      "memory usage: 21.9 MB\n",
      "None\n"
     ]
    }
   ],
   "source": [
    "# imprima as informações sobre o DataFrame\n",
    "print(\"Instacart Orders Info:\")\n",
    "print(instacart_orders.info())"
   ]
  },
  {
   "cell_type": "code",
   "execution_count": 4,
   "id": "5130e05e",
   "metadata": {
    "id": "5130e05e"
   },
   "outputs": [
    {
     "name": "stdout",
     "output_type": "stream",
     "text": [
      "\n",
      "Products Info:\n",
      "<class 'pandas.core.frame.DataFrame'>\n",
      "RangeIndex: 49694 entries, 0 to 49693\n",
      "Data columns (total 4 columns):\n",
      " #   Column         Non-Null Count  Dtype \n",
      "---  ------         --------------  ----- \n",
      " 0   product_id     49694 non-null  int64 \n",
      " 1   product_name   48436 non-null  object\n",
      " 2   aisle_id       49694 non-null  int64 \n",
      " 3   department_id  49694 non-null  int64 \n",
      "dtypes: int64(3), object(1)\n",
      "memory usage: 1.5+ MB\n",
      "None\n"
     ]
    }
   ],
   "source": [
    "# imprima as informações sobre o DataFrame\n",
    "\n",
    "print(\"\\nProducts Info:\")\n",
    "print(products.info())"
   ]
  },
  {
   "cell_type": "code",
   "execution_count": 5,
   "id": "d8370c05",
   "metadata": {
    "id": "d8370c05"
   },
   "outputs": [
    {
     "name": "stdout",
     "output_type": "stream",
     "text": [
      "\n",
      "Order Products Info:\n",
      "<class 'pandas.core.frame.DataFrame'>\n",
      "RangeIndex: 4545007 entries, 0 to 4545006\n",
      "Data columns (total 4 columns):\n",
      " #   Column             Dtype  \n",
      "---  ------             -----  \n",
      " 0   order_id           int64  \n",
      " 1   product_id         int64  \n",
      " 2   add_to_cart_order  float64\n",
      " 3   reordered          int64  \n",
      "dtypes: float64(1), int64(3)\n",
      "memory usage: 138.7 MB\n",
      "None\n"
     ]
    }
   ],
   "source": [
    "# imprima as informações sobre o DataFrame\n",
    "print(\"\\nOrder Products Info:\")\n",
    "print(order_products.info())"
   ]
  },
  {
   "cell_type": "code",
   "execution_count": 6,
   "id": "59e2090f",
   "metadata": {
    "id": "59e2090f"
   },
   "outputs": [
    {
     "name": "stdout",
     "output_type": "stream",
     "text": [
      "\n",
      "Aisles Info:\n",
      "<class 'pandas.core.frame.DataFrame'>\n",
      "RangeIndex: 134 entries, 0 to 133\n",
      "Data columns (total 2 columns):\n",
      " #   Column    Non-Null Count  Dtype \n",
      "---  ------    --------------  ----- \n",
      " 0   aisle_id  134 non-null    int64 \n",
      " 1   aisle     134 non-null    object\n",
      "dtypes: int64(1), object(1)\n",
      "memory usage: 2.2+ KB\n",
      "None\n"
     ]
    }
   ],
   "source": [
    "# imprima as informações sobre o DataFrame\n",
    "print(\"\\nAisles Info:\")\n",
    "print(aisles.info())"
   ]
  },
  {
   "cell_type": "code",
   "execution_count": 7,
   "id": "6fc81694",
   "metadata": {
    "id": "6fc81694"
   },
   "outputs": [
    {
     "name": "stdout",
     "output_type": "stream",
     "text": [
      "\n",
      "Departments Info:\n",
      "<class 'pandas.core.frame.DataFrame'>\n",
      "RangeIndex: 21 entries, 0 to 20\n",
      "Data columns (total 2 columns):\n",
      " #   Column         Non-Null Count  Dtype \n",
      "---  ------         --------------  ----- \n",
      " 0   department_id  21 non-null     int64 \n",
      " 1   department     21 non-null     object\n",
      "dtypes: int64(1), object(1)\n",
      "memory usage: 464.0+ bytes\n",
      "None\n"
     ]
    }
   ],
   "source": [
    "# imprima as informações sobre o DataFrame\n",
    "print(\"\\nDepartments Info:\")\n",
    "print(departments.info())"
   ]
  },
  {
   "cell_type": "markdown",
   "id": "t75BD19oaR5f",
   "metadata": {
    "id": "t75BD19oaR5f"
   },
   "source": [
    "## Conclusões\n",
    "\n",
    "Escreva aqui suas conclusões intermediárias da Etapa 1. Visão geral dos dados\n",
    "\n",
    "<div class=\"alert alert-info\">\n",
    "<strong>Conclusões</strong>\n",
    "    <p> Ao analisar as informações dos DataFrames, observamos que todas as tabelas possuem apenas uma coluna, indicando que os dados foram carregados incorretamente. Isso sugere que os arquivos CSV podem estar usando um delimitador diferente do esperado (; ao invés de ,).</p> \n",
    "    "
   ]
  },
  {
   "cell_type": "markdown",
   "id": "8RJHqxVmaVsF",
   "metadata": {
    "id": "8RJHqxVmaVsF"
   },
   "source": [
    "# Etapa 2. Preparação de dados\n",
    "\n",
    "Faça o pré-processamento dos dados da seguinte maneira:\n",
    "\n",
    "-\tVerifique e corrija os tipos de dados (por exemplo, certifique-se de que as colunas de ID sejam números inteiros)\n",
    "-\tIdentifique e preencha valores ausentes\n",
    "-\tIdentifique e remova valores duplicados\n",
    "\n",
    "Certifique-se de explicar que tipos de valores ausentes e duplicados você encontrou, como você os preencheu ou removeu, por que escolheu esses métodos e por que você acha que esses valores ausentes e duplicados estavam presentes no conjunto de dados."
   ]
  },
  {
   "cell_type": "markdown",
   "id": "p6poABZQaZYb",
   "metadata": {
    "id": "p6poABZQaZYb"
   },
   "source": [
    "## Plano de solução\n",
    "\n",
    "Escreva aqui seu plano para a Etapa 2. Preparação de dados\n",
    "\n",
    " 1.Correção do carregamento dos dados\n",
    "Verificar o delimitador correto nos arquivos CSV e recarregar os dados com sep=\";\".\n",
    "Garantir que cada coluna foi corretamente separada e possui o tipo de dado apropriado.\n",
    "\n",
    "2. Correção dos tipos de dados\n",
    "Converter IDs (order_id, user_id, product_id, aisle_id, department_id) para inteiros.\n",
    "Converter colunas categóricas (order_dow, department, aisle) para strings.\n",
    "Garantir que days_since_prior_order seja numérico.\n",
    "\n",
    "3. Tratamento de valores ausentes\n",
    "Identificar colunas com valores nulos.\n",
    "Decidir se os valores devem ser preenchidos (média, moda, valor padrão) ou removidos, justificando a escolha.\n",
    "\n",
    "4. Remoção de duplicatas\n",
    "Identificar e remover registros duplicados em cada dataset.\n",
    "Justificar a possível origem das duplicatas e o impacto no conjunto de dados.\n",
    "\n",
    "5. Validação final dos dados\n",
    "Exibir estatísticas descritivas e amostras dos datasets para garantir que os dados foram processados corretamente.\n"
   ]
  },
  {
   "cell_type": "markdown",
   "id": "07357848-dc64-4156-9cc3-01ff4365226d",
   "metadata": {
    "id": "07357848-dc64-4156-9cc3-01ff4365226d"
   },
   "source": [
    "## Encontre e remova valores duplicados (e descreva por que você está fazendo suas escolhas)"
   ]
  },
  {
   "cell_type": "markdown",
   "id": "f179f0a9",
   "metadata": {
    "id": "f179f0a9"
   },
   "source": [
    "### DataFrame `instacart_orders`"
   ]
  },
  {
   "cell_type": "code",
   "execution_count": 8,
   "id": "b99297a5-405a-463d-8535-9adc3da4ad74",
   "metadata": {
    "id": "b99297a5-405a-463d-8535-9adc3da4ad74"
   },
   "outputs": [
    {
     "name": "stdout",
     "output_type": "stream",
     "text": [
      "Total de registros duplicados: 15\n"
     ]
    }
   ],
   "source": [
    "# Verificar se há pedidos duplicados\n",
    "\n",
    "instacart_orders_duplicated = instacart_orders.duplicated()\n",
    "print(f\"Total de registros duplicados: {instacart_orders_duplicated.sum()}\")"
   ]
  },
  {
   "cell_type": "markdown",
   "id": "PEkwUX_gvt5A",
   "metadata": {
    "id": "PEkwUX_gvt5A"
   },
   "source": [
    "Há linhas duplicadas? Se sim, o que elas têm em comum?"
   ]
  },
  {
   "cell_type": "code",
   "execution_count": 9,
   "id": "0d44de5d",
   "metadata": {
    "id": "0d44de5d"
   },
   "outputs": [
    {
     "name": "stdout",
     "output_type": "stream",
     "text": [
      "Total de pedidos feitos às 2h da manhã nas quartas-feiras: 121\n",
      "       order_id  user_id  order_number  order_dow  order_hour_of_day  \\\n",
      "4838    2766110   162084            41          3                  2   \n",
      "5156    2190225   138285            18          3                  2   \n",
      "15506    553049    58599            13          3                  2   \n",
      "18420    382357   120200            19          3                  2   \n",
      "24691    690242    77357             2          3                  2   \n",
      "\n",
      "       days_since_prior_order  \n",
      "4838                     16.0  \n",
      "5156                     11.0  \n",
      "15506                     7.0  \n",
      "18420                    11.0  \n",
      "24691                     9.0  \n"
     ]
    }
   ],
   "source": [
    "# Com base nas suas conclusões,\n",
    "\n",
    "# verifique todos os pedidos feitos às 2h da manhã nas quartas-feiras\n",
    "\n",
    "# Filtrar pedidos feitos às 2h da manhã nas quartas-feiras (order_dow = 3, order_hour_of_day = 2)\n",
    "pedidos_2h_quarta = instacart_orders[\n",
    "    (instacart_orders['order_dow'] == 3) & (instacart_orders['order_hour_of_day'] == 2)\n",
    "]\n",
    "\n",
    "# Exibir o total de pedidos encontrados\n",
    "print(f\"Total de pedidos feitos às 2h da manhã nas quartas-feiras: {len(pedidos_2h_quarta)}\")\n",
    "\n",
    "# Mostrar as primeiras linhas para análise\n",
    "print(pedidos_2h_quarta.head())"
   ]
  },
  {
   "cell_type": "markdown",
   "id": "vu2OWyoqwOx5",
   "metadata": {
    "id": "vu2OWyoqwOx5"
   },
   "source": [
    "O que esse resultado quer dizer?\n",
    "R: 106 pedidos foram feitos às 2h da manhã nas quartas-feiras.\n",
    "Cada linha representa um pedido feito por um usuário diferente, mas com informações similares de hora e dia.\n",
    "O days_since_prior_order mostra que os pedidos são feitos com intervalos de tempo variados desde o último pedido (pode ser de 7 a 16 dias)."
   ]
  },
  {
   "cell_type": "code",
   "execution_count": 10,
   "id": "480563c7",
   "metadata": {
    "id": "480563c7"
   },
   "outputs": [],
   "source": [
    "# Remova pedidos duplicados\n",
    "instacart_orders = instacart_orders.drop_duplicates(['order_id'])"
   ]
  },
  {
   "cell_type": "code",
   "execution_count": 11,
   "id": "0b2396a2",
   "metadata": {
    "id": "0b2396a2"
   },
   "outputs": [
    {
     "name": "stdout",
     "output_type": "stream",
     "text": [
      "Total de registros duplicados após remoção: 15\n"
     ]
    }
   ],
   "source": [
    "# Verifique as linhas duplicadas mais uma vez\n",
    "print(f\"Total de registros duplicados após remoção: {instacart_orders_duplicated.sum()}\")\n"
   ]
  },
  {
   "cell_type": "code",
   "execution_count": 12,
   "id": "f6113ef1",
   "metadata": {
    "id": "f6113ef1"
   },
   "outputs": [
    {
     "name": "stdout",
     "output_type": "stream",
     "text": [
      "IDs de pedidos duplicados:\n",
      "Empty DataFrame\n",
      "Columns: [order_id]\n",
      "Index: []\n"
     ]
    }
   ],
   "source": [
    "# Verifique novamente apenas os IDs de pedidos duplicados\n",
    "duplicatas_ids = instacart_orders[instacart_orders.duplicated(subset=['order_id'], keep=False)]\n",
    "duplicatas_ids = duplicatas_ids[['order_id']]\n",
    "print(f\"IDs de pedidos duplicados:\\n{duplicatas_ids}\")"
   ]
  },
  {
   "cell_type": "markdown",
   "id": "5e8905ae",
   "metadata": {
    "id": "5e8905ae"
   },
   "source": [
    "\n",
    "\n",
    "Descreva brevemente suas conclusões e o que você fez com elas."
   ]
  },
  {
   "cell_type": "markdown",
   "id": "45e6bc46",
   "metadata": {
    "id": "45e6bc46"
   },
   "source": [
    "### DataFrame `products`"
   ]
  },
  {
   "cell_type": "code",
   "execution_count": 13,
   "id": "5f526b5b-8175-46fa-a0fd-441767d50e64",
   "metadata": {
    "id": "5f526b5b-8175-46fa-a0fd-441767d50e64"
   },
   "outputs": [
    {
     "name": "stdout",
     "output_type": "stream",
     "text": [
      "Total de linhas duplicadas: 0\n"
     ]
    }
   ],
   "source": [
    "# Verifique se há linhas completamente duplicadas\n",
    "duplicatas_produtos = products.duplicated()\n",
    "\n",
    "# Contar o total de linhas duplicadas\n",
    "print(f\"Total de linhas duplicadas: {duplicatas_produtos.sum()}\")"
   ]
  },
  {
   "cell_type": "code",
   "execution_count": 14,
   "id": "88daa4f4",
   "metadata": {
    "id": "88daa4f4"
   },
   "outputs": [
    {
     "name": "stdout",
     "output_type": "stream",
     "text": [
      "IDs de produtos duplicados:\n",
      "Empty DataFrame\n",
      "Columns: [product_id]\n",
      "Index: []\n"
     ]
    }
   ],
   "source": [
    "# Verifique apenas IDs dos produtos duplicados\n",
    "# Verificar os 'product_id' duplicados\n",
    "duplicatas_produtos_ids = products[products.duplicated(subset=['product_id'], keep=False)]\n",
    "\n",
    "# Exibir apenas os 'product_id' duplicados\n",
    "duplicatas_produtos_ids = duplicatas_produtos_ids[['product_id']]\n",
    "print(f\"IDs de produtos duplicados:\\n{duplicatas_produtos_ids}\")"
   ]
  },
  {
   "cell_type": "code",
   "execution_count": 15,
   "id": "c773f0bf",
   "metadata": {
    "id": "c773f0bf"
   },
   "outputs": [
    {
     "name": "stdout",
     "output_type": "stream",
     "text": [
      "Nomes de produtos duplicados:\n",
      "                                          product_name\n",
      "37                                                 NaN\n",
      "41                                     Biotin 1000 mcg\n",
      "71                                                 NaN\n",
      "109                                                NaN\n",
      "185         Fresh Scent Dishwasher Detergent with Dawn\n",
      "...                                                ...\n",
      "49689                    HIGH PERFORMANCE ENERGY DRINK\n",
      "49690                    ORIGINAL PANCAKE & WAFFLE MIX\n",
      "49691  ORGANIC INSTANT OATMEAL LIGHT MAPLE BROWN SUGAR\n",
      "49692                           SPRING WATER BODY WASH\n",
      "49693                          BURRITO- STEAK & CHEESE\n",
      "\n",
      "[1465 rows x 1 columns]\n"
     ]
    }
   ],
   "source": [
    "# Verifique apenas nomes de produtos duplicados (converta os nomes para minúsculas para uma comparação melhor)\n",
    "# Converter os nomes dos produtos para minúsculas e verificar duplicatas\n",
    "duplicatas_nomes_produtos = products[products['product_name'].str.lower().duplicated(keep=False)]\n",
    "\n",
    "# Exibir apenas os 'product_name' duplicados\n",
    "duplicatas_nomes_produtos = duplicatas_nomes_produtos[['product_name']]\n",
    "print(f\"Nomes de produtos duplicados:\\n{duplicatas_nomes_produtos}\")"
   ]
  },
  {
   "cell_type": "code",
   "execution_count": 16,
   "id": "01efd02e",
   "metadata": {
    "id": "01efd02e"
   },
   "outputs": [
    {
     "name": "stdout",
     "output_type": "stream",
     "text": [
      "Nomes de produtos duplicados (sem valores faltando):\n",
      "                                          product_name\n",
      "41                                     Biotin 1000 mcg\n",
      "185         Fresh Scent Dishwasher Detergent with Dawn\n",
      "515                             American Cheese Slices\n",
      "1538                                  Cauliflower head\n",
      "1783               NUTrition Protein Mix Blueberry Nut\n",
      "...                                                ...\n",
      "49689                    HIGH PERFORMANCE ENERGY DRINK\n",
      "49690                    ORIGINAL PANCAKE & WAFFLE MIX\n",
      "49691  ORGANIC INSTANT OATMEAL LIGHT MAPLE BROWN SUGAR\n",
      "49692                           SPRING WATER BODY WASH\n",
      "49693                          BURRITO- STEAK & CHEESE\n",
      "\n",
      "[207 rows x 1 columns]\n"
     ]
    }
   ],
   "source": [
    "# Verifique os nomes de produtos duplicados que não estão faltando\n",
    "# Filtrar os produtos que não possuem nome faltando (não são NaN)\n",
    "produtos_sem_faltas = products[products['product_name'].notna()]\n",
    "\n",
    "# Verificar duplicatas nos nomes dos produtos (convertendo para minúsculas)\n",
    "duplicatas_nomes_produtos = produtos_sem_faltas[produtos_sem_faltas['product_name'].str.lower().duplicated(keep=False)]\n",
    "\n",
    "# Exibir apenas os 'product_name' duplicados\n",
    "duplicatas_nomes_produtos = duplicatas_nomes_produtos[['product_name']]\n",
    "print(f\"Nomes de produtos duplicados (sem valores faltando):\\n{duplicatas_nomes_produtos}\")"
   ]
  },
  {
   "cell_type": "markdown",
   "id": "9da8d293",
   "metadata": {
    "id": "9da8d293"
   },
   "source": [
    "Descreva brevemente suas conclusões e o que você fez com elas.\n",
    "\n",
    "Aqui estão as conclusões de forma mais resumida:\n",
    "\n",
    "Linhas duplicadas: Não há linhas completamente duplicadas no DataFrame products.\n",
    "IDs de produtos duplicados: Não há produtos com product_id duplicado.\n",
    "Nomes de produtos duplicados:\n",
    "Encontrei 1465 linhas com valores faltando (NaN).\n",
    "Depois de remover os NaN, encontrei 207 nomes de produtos duplicados. Isso pode indicar produtos similares ou variações com nomes idênticos."
   ]
  },
  {
   "cell_type": "markdown",
   "id": "60f30db1",
   "metadata": {
    "id": "60f30db1"
   },
   "source": [
    "### DataFrame `departments`"
   ]
  },
  {
   "cell_type": "code",
   "execution_count": 17,
   "id": "fb410ad4-0fbf-4b80-bb09-23fdea79afe3",
   "metadata": {
    "id": "fb410ad4-0fbf-4b80-bb09-23fdea79afe3"
   },
   "outputs": [
    {
     "name": "stdout",
     "output_type": "stream",
     "text": [
      "Total de linhas duplicadas: 0\n",
      "Não há linhas duplicadas no DataFrame 'departments'.\n"
     ]
    }
   ],
   "source": [
    "# Verifique se há linhas completamente duplicadas\n",
    "# Verificar se há linhas completamente duplicadas no DataFrame 'departments'\n",
    "duplicatas_departamentos = departments.duplicated()\n",
    "\n",
    "# Contar o total de linhas duplicadas\n",
    "print(f\"Total de linhas duplicadas: {duplicatas_departamentos.sum()}\")\n",
    "\n",
    "# Exibir as linhas duplicadas, se houver\n",
    "if duplicatas_departamentos.sum() > 0:\n",
    "    print(departments[duplicatas_departamentos])\n",
    "else:\n",
    "    print(\"Não há linhas duplicadas no DataFrame 'departments'.\")\n"
   ]
  },
  {
   "cell_type": "code",
   "execution_count": 18,
   "id": "332b12bb",
   "metadata": {
    "id": "332b12bb"
   },
   "outputs": [
    {
     "name": "stdout",
     "output_type": "stream",
     "text": [
      "IDs de departamentos duplicados:\n",
      "Empty DataFrame\n",
      "Columns: [department_id]\n",
      "Index: []\n"
     ]
    }
   ],
   "source": [
    "# Verifique apenas se há IDs dos produtos duplicados\n",
    "# Verificar se há IDs de departamentos duplicados\n",
    "duplicatas_departamentos_ids = departments[departments.duplicated(subset=['department_id'], keep=False)]\n",
    "\n",
    "# Exibir apenas os 'department_id' duplicados\n",
    "duplicatas_departamentos_ids = duplicatas_departamentos_ids[['department_id']]\n",
    "print(f\"IDs de departamentos duplicados:\\n{duplicatas_departamentos_ids}\")\n"
   ]
  },
  {
   "cell_type": "markdown",
   "id": "bd30d78e",
   "metadata": {
    "id": "bd30d78e"
   },
   "source": [
    "Descreva brevemente suas conclusões e o que você fez com elas.\n",
    "\n",
    "Não encontrei linhas duplicadas nem IDs de departamentos duplicados no DataFrame departments. Os dados estão únicos e sem repetições."
   ]
  },
  {
   "cell_type": "markdown",
   "id": "889349c1",
   "metadata": {
    "id": "889349c1"
   },
   "source": [
    "### DataFrame `aisles`"
   ]
  },
  {
   "cell_type": "code",
   "execution_count": 19,
   "id": "9da89fb9-4679-40f5-ad0d-c34df753a3f8",
   "metadata": {
    "id": "9da89fb9-4679-40f5-ad0d-c34df753a3f8"
   },
   "outputs": [
    {
     "name": "stdout",
     "output_type": "stream",
     "text": [
      "Total de registros duplicados: 0\n"
     ]
    }
   ],
   "source": [
    "# Verifique se há linhas completamente duplicadas\n",
    "aisles_duplicated = aisles.duplicated()\n",
    "print(f\"Total de registros duplicados: {aisles_duplicated.sum()}\")"
   ]
  },
  {
   "cell_type": "code",
   "execution_count": 20,
   "id": "da7c2822",
   "metadata": {
    "id": "da7c2822"
   },
   "outputs": [
    {
     "name": "stdout",
     "output_type": "stream",
     "text": [
      "Total de registros duplicados: 0\n"
     ]
    }
   ],
   "source": [
    "# Verifique apenas se há IDs dos produtos duplicados\n",
    "aisles_id_duplicated = aisles.duplicated(['aisle_id'])\n",
    "print(f\"Total de registros duplicados: {aisles_id_duplicated.sum()}\")"
   ]
  },
  {
   "cell_type": "markdown",
   "id": "ac63826f",
   "metadata": {
    "id": "ac63826f"
   },
   "source": [
    "Descreva brevemente suas conclusões e o que você fez com elas."
   ]
  },
  {
   "cell_type": "markdown",
   "id": "274cd06a",
   "metadata": {
    "id": "274cd06a"
   },
   "source": [
    "### DataFrame `order_products`"
   ]
  },
  {
   "cell_type": "code",
   "execution_count": 21,
   "id": "52326689-84a8-4b8f-a881-7c68780f62c9",
   "metadata": {
    "id": "52326689-84a8-4b8f-a881-7c68780f62c9"
   },
   "outputs": [
    {
     "name": "stdout",
     "output_type": "stream",
     "text": [
      "Total de registros duplicados: 0\n"
     ]
    }
   ],
   "source": [
    "# Verifique se há linhas completamente duplicadas\n",
    "orders_products_duplicated = order_products.duplicated()\n",
    "print(f\"Total de registros duplicados: {orders_products_duplicated.sum()}\")"
   ]
  },
  {
   "cell_type": "code",
   "execution_count": 22,
   "id": "7b861391",
   "metadata": {
    "id": "7b861391"
   },
   "outputs": [
    {
     "name": "stdout",
     "output_type": "stream",
     "text": [
      "Total de registros duplicados considerando 'order_id' e 'product_id': 0\n"
     ]
    }
   ],
   "source": [
    "# Verifique mais uma vez se há outros casos complicados de duplicados\n",
    "orders_products_duplicated = order_products.duplicated(subset=[\"order_id\", \"product_id\"])\n",
    "print(f\"Total de registros duplicados considerando 'order_id' e 'product_id': {orders_products_duplicated.sum()}\")\n"
   ]
  },
  {
   "cell_type": "markdown",
   "id": "0b890492",
   "metadata": {
    "id": "0b890492"
   },
   "source": [
    "Descreva brevemente suas conclusões e o que você fez com elas."
   ]
  },
  {
   "cell_type": "markdown",
   "id": "1e46de76",
   "metadata": {
    "id": "1e46de76"
   },
   "source": [
    "## Encontre e remova valores ausentes\n",
    "\n",
    "\n",
    "Ao processarmos valores duplicados, observamos que também temos valores ausentes que precisamos investigar nas seguintes colunas:\n",
    "\n",
    "*\tA coluna `'product_name'` da tabela products.\n",
    "*\tA coluna `'days_since_prior_order'` da tabela orders.\n",
    "*\tA coluna `'add_to_cart_order'` da tabela order_products.\n"
   ]
  },
  {
   "cell_type": "markdown",
   "id": "c0aebd78",
   "metadata": {
    "id": "c0aebd78"
   },
   "source": [
    "### DataFrame `products`"
   ]
  },
  {
   "cell_type": "code",
   "execution_count": 23,
   "id": "fe4a8b0f",
   "metadata": {
    "id": "fe4a8b0f"
   },
   "outputs": [
    {
     "name": "stdout",
     "output_type": "stream",
     "text": [
      "Total de valores ausentes em 'product_name': 1258\n"
     ]
    }
   ],
   "source": [
    "# Encontre valores ausentes na coluna 'product_name'\n",
    "missing_products = products[\"product_name\"].isna().sum()\n",
    "print(f\"Total de valores ausentes em 'product_name': {missing_products}\")\n"
   ]
  },
  {
   "cell_type": "markdown",
   "id": "-A6x1AbJhjkp",
   "metadata": {
    "id": "-A6x1AbJhjkp"
   },
   "source": [
    "Descreva brevemente suas conclusões."
   ]
  },
  {
   "cell_type": "code",
   "execution_count": 24,
   "id": "e96167bc",
   "metadata": {
    "id": "e96167bc"
   },
   "outputs": [
    {
     "name": "stdout",
     "output_type": "stream",
     "text": [
      "Todos os produtos com nome ausente estão no corredor 100? True\n"
     ]
    }
   ],
   "source": [
    "# Todos os nomes de produtos ausentes estão associados com o corredor de ID 100?\n",
    "missing_products = products[products[\"product_name\"].isna()]\n",
    "all_in_aisle_100 = (missing_products[\"aisle_id\"] == 100).all()\n",
    "\n",
    "print(f\"Todos os produtos com nome ausente estão no corredor 100? {all_in_aisle_100}\")"
   ]
  },
  {
   "cell_type": "markdown",
   "id": "28492398",
   "metadata": {},
   "source": [
    "\n",
    "<div class=\"alert alert-block alert-success\">\n",
    "<b> Comentário do revisor: </b> <a class=\"tocSkip\"></a>\n",
    "\n",
    "Correto! Parabéns, pois não é comum acertarem de primeira.\n",
    "</div>\n"
   ]
  },
  {
   "cell_type": "markdown",
   "id": "WRpIfXRphpSL",
   "metadata": {
    "id": "WRpIfXRphpSL"
   },
   "source": [
    "Descreva brevemente suas conclusões."
   ]
  },
  {
   "cell_type": "code",
   "execution_count": 25,
   "id": "8fd0a541",
   "metadata": {
    "id": "8fd0a541"
   },
   "outputs": [
    {
     "name": "stdout",
     "output_type": "stream",
     "text": [
      "Todos os produtos com nome ausente estão no departamento 21? True\n"
     ]
    }
   ],
   "source": [
    "# Todos os nomes de produtos ausentes estão associados com o departamento de ID 21?\n",
    "\n",
    "missing_products = products[products[\"product_name\"].isna()]\n",
    "\n",
    "all_in_department_21 = (missing_products[\"department_id\"] == 21).all()\n",
    "\n",
    "print(f\"Todos os produtos com nome ausente estão no departamento 21? {all_in_department_21}\")\n"
   ]
  },
  {
   "cell_type": "markdown",
   "id": "qDpdYn1Fht_I",
   "metadata": {
    "id": "qDpdYn1Fht_I"
   },
   "source": [
    "Descreva brevemente suas conclusões."
   ]
  },
  {
   "cell_type": "code",
   "execution_count": 26,
   "id": "325c3464",
   "metadata": {
    "id": "325c3464"
   },
   "outputs": [
    {
     "name": "stdout",
     "output_type": "stream",
     "text": [
      "Informações do corredor com ID 100:\n",
      "    aisle_id    aisle\n",
      "99       100  missing\n",
      "Informações do departamento com ID 21:\n",
      "    department_id department\n",
      "20             21    missing\n"
     ]
    }
   ],
   "source": [
    "# Use as tabelas department e aisle para verificar os dados do corredor com ID 100 e do departamento com ID 21.\n",
    "\n",
    "# 1️⃣ Verificar os dados do corredor com ID 100 na tabela aisle\n",
    "aisle_info = aisles[aisles[\"aisle_id\"] == 100]\n",
    "print(\"Informações do corredor com ID 100:\")\n",
    "print(aisle_info)\n",
    "\n",
    "# 2️⃣ Verificar os dados do departamento com ID 21 na tabela department\n",
    "department_info = departments[departments[\"department_id\"] == 21]\n",
    "print(\"Informações do departamento com ID 21:\")\n",
    "print(department_info)\n"
   ]
  },
  {
   "cell_type": "markdown",
   "id": "nqhSTUPhhvEJ",
   "metadata": {
    "id": "nqhSTUPhhvEJ"
   },
   "source": [
    "Descreva brevemente suas conclusões."
   ]
  },
  {
   "cell_type": "code",
   "execution_count": 27,
   "id": "6b295120",
   "metadata": {
    "id": "6b295120"
   },
   "outputs": [
    {
     "name": "stdout",
     "output_type": "stream",
     "text": [
      "Total de valores ausentes em 'product_name' após preenchimento: 0\n"
     ]
    }
   ],
   "source": [
    "# Preencha nomes de produtos ausentes com 'Unknown'\n",
    "# Preencher valores ausentes na coluna 'product_name' com 'Unknown'\n",
    "products[\"product_name\"] = products[\"product_name\"].fillna(\"Unknown\")\n",
    "\n",
    "# Verificar se os valores ausentes foram preenchidos\n",
    "missing_products = products[\"product_name\"].isna().sum()\n",
    "print(f\"Total de valores ausentes em 'product_name' após preenchimento: {missing_products}\")"
   ]
  },
  {
   "cell_type": "markdown",
   "id": "fc70e5ad",
   "metadata": {
    "id": "fc70e5ad"
   },
   "source": [
    "Descreva brevemente suas conclusões e o que você fez com elas."
   ]
  },
  {
   "cell_type": "markdown",
   "id": "7eb45c86",
   "metadata": {
    "id": "7eb45c86"
   },
   "source": [
    "### DataFrame `orders`"
   ]
  },
  {
   "cell_type": "code",
   "execution_count": 28,
   "id": "93e41d96",
   "metadata": {
    "id": "93e41d96"
   },
   "outputs": [
    {
     "name": "stdout",
     "output_type": "stream",
     "text": [
      "Valores ausentes por coluna:\n",
      "order_id               0\n",
      "product_id             0\n",
      "add_to_cart_order    836\n",
      "reordered              0\n",
      "dtype: int64\n"
     ]
    }
   ],
   "source": [
    "# Encontre os valores ausentes\n",
    "missing_data = order_products.isna().sum()\n",
    "\n",
    "# Exibir os valores ausentes por coluna\n",
    "print(\"Valores ausentes por coluna:\")\n",
    "print(missing_data)\n"
   ]
  },
  {
   "cell_type": "code",
   "execution_count": 29,
   "id": "166e5a86",
   "metadata": {
    "id": "166e5a86"
   },
   "outputs": [
    {
     "name": "stdout",
     "output_type": "stream",
     "text": [
      "Valores ausentes para clientes que não estão fazendo o primeiro pedido:\n",
      "order_id                  0\n",
      "user_id                   0\n",
      "order_number              0\n",
      "order_dow                 0\n",
      "order_hour_of_day         0\n",
      "days_since_prior_order    0\n",
      "dtype: int64\n"
     ]
    }
   ],
   "source": [
    "# Há valores ausentes para os clientes que não estão fazendo o primeiro pedido?\n",
    "# Filtrar clientes que não estão fazendo o primeiro pedido (ou seja, 'days_since_prior_order' > 0)\n",
    "non_first_time_orders = instacart_orders[instacart_orders[\"days_since_prior_order\"] > 0]\n",
    "\n",
    "# Verificar se há valores ausentes nas colunas relevantes para esses clientes\n",
    "missing_data_non_first = non_first_time_orders.isna().sum()\n",
    "\n",
    "print(\"Valores ausentes para clientes que não estão fazendo o primeiro pedido:\")\n",
    "print(missing_data_non_first)\n"
   ]
  },
  {
   "cell_type": "markdown",
   "id": "4e23d089",
   "metadata": {
    "id": "4e23d089"
   },
   "source": [
    "Descreva brevemente suas conclusões e o que você fez com elas."
   ]
  },
  {
   "cell_type": "markdown",
   "id": "69dc9ca4",
   "metadata": {
    "id": "69dc9ca4"
   },
   "source": [
    "### DataFrame `order_products`"
   ]
  },
  {
   "cell_type": "code",
   "execution_count": 30,
   "id": "b8240253",
   "metadata": {
    "id": "b8240253"
   },
   "outputs": [
    {
     "name": "stdout",
     "output_type": "stream",
     "text": [
      "Valores ausentes por coluna em order_products:\n",
      "order_id               0\n",
      "product_id             0\n",
      "add_to_cart_order    836\n",
      "reordered              0\n",
      "dtype: int64\n"
     ]
    }
   ],
   "source": [
    "# Encontre os valores ausentes\n",
    "# Encontrar os valores ausentes no DataFrame order_products\n",
    "missing_data_order_products = order_products.isna().sum()\n",
    "\n",
    "# Exibir os valores ausentes por coluna\n",
    "print(\"Valores ausentes por coluna em order_products:\")\n",
    "print(missing_data_order_products)\n"
   ]
  },
  {
   "cell_type": "code",
   "execution_count": 31,
   "id": "9a78e5ee",
   "metadata": {
    "id": "9a78e5ee"
   },
   "outputs": [
    {
     "name": "stdout",
     "output_type": "stream",
     "text": [
      "Valor mínimo em 'add_to_cart_order': 1.0\n",
      "Valor máximo em 'add_to_cart_order': 64.0\n"
     ]
    }
   ],
   "source": [
    "# Quais são os valores mínimo e máximo dessa coluna?\n",
    "# Valores mínimo e máximo na coluna 'add_to_cart_order'\n",
    "min_value = order_products['add_to_cart_order'].min()\n",
    "max_value = order_products['add_to_cart_order'].max()\n",
    "\n",
    "# Exibir os valores mínimo e máximo\n",
    "print(f\"Valor mínimo em 'add_to_cart_order': {min_value}\")\n",
    "print(f\"Valor máximo em 'add_to_cart_order': {max_value}\")\n"
   ]
  },
  {
   "cell_type": "markdown",
   "id": "-Z2Ja215jW78",
   "metadata": {
    "id": "-Z2Ja215jW78"
   },
   "source": [
    "Descreva brevemente suas conclusões."
   ]
  },
  {
   "cell_type": "code",
   "execution_count": 32,
   "id": "ab9d0c2b",
   "metadata": {
    "id": "ab9d0c2b"
   },
   "outputs": [
    {
     "name": "stdout",
     "output_type": "stream",
     "text": [
      "IDs dos pedidos com valores ausentes em 'add_to_cart_order':\n",
      "[2449164 1968313 2926893 1717990 1959075  844733   61355  936852  264710\n",
      " 1564093  129627  293169 2849370 1386261 3308010  903110 2136777 3347453\n",
      " 1888628  165801 2094761 1038146 2997021  813364 2256933  171934 2409109\n",
      " 1730767 1169835  733526  404157 3125735  747668 1800005 1961723  871281\n",
      "  388234 1648217 1477139  102236 1021563 1832957 2721963  678116 1220886\n",
      " 1673227 2999801 1633337 2470674 2625444 1677118 2479011 3383594 1183255\n",
      " 1713430 2652650 1598369 1916118  854647 1302315  888470  180546 2621907\n",
      " 1308785 2729254    9310 2170451 2979697 1625713 1529171]\n"
     ]
    }
   ],
   "source": [
    "# Salve todos os IDs dos pedidos com pelo menos um valor ausente em 'add_to_cart_order'\n",
    "# Filtrar pedidos com pelo menos um valor ausente na coluna 'add_to_cart_order'\n",
    "orders_with_missing_add_to_cart = order_products[order_products['add_to_cart_order'].isna()]\n",
    "\n",
    "# Obter os IDs dos pedidos\n",
    "order_ids_with_missing = orders_with_missing_add_to_cart['order_id'].unique()\n",
    "\n",
    "# Exibir os IDs dos pedidos\n",
    "print(\"IDs dos pedidos com valores ausentes em 'add_to_cart_order':\")\n",
    "print(order_ids_with_missing)\n"
   ]
  },
  {
   "cell_type": "code",
   "execution_count": 33,
   "id": "54c31695",
   "metadata": {
    "id": "54c31695"
   },
   "outputs": [
    {
     "name": "stdout",
     "output_type": "stream",
     "text": [
      "Valor mínimo de produtos por pedido com valores ausentes: 65\n"
     ]
    }
   ],
   "source": [
    "# Identificar os IDs de pedidos que possuem pelo menos um valor ausente em 'add_to_cart_order'\n",
    "miss_cart_order_ids = order_products[order_products['add_to_cart_order'].isna()]['order_id'].unique()\n",
    "\n",
    "# Filtrar o DataFrame original para incluir todos os produtos desses pedidos\n",
    "orders_with_missing_orders = order_products[order_products['order_id'].isin(miss_cart_order_ids)]\n",
    "\n",
    "# Contar o número total de produtos em cada pedido\n",
    "product_count_per_order = orders_with_missing_orders.groupby('order_id').size()\n",
    "\n",
    "# Verificar o valor mínimo da contagem de produtos\n",
    "min_product_count = product_count_per_order.min()\n",
    "\n",
    "print(f\"Valor mínimo de produtos por pedido com valores ausentes: {min_product_count}\")\n"
   ]
  },
  {
   "cell_type": "markdown",
   "id": "58fdf16e",
   "metadata": {},
   "source": [
    "<s>\n",
    "<div class=\"alert alert-block alert-danger\">\n",
    "<b> Comentário do revisor: </b> <a class=\"tocSkip\"></a>\n",
    "\n",
    "Há um erro de lógica aqui. Vou deixar código de exemplo:\n",
    "</div>\n"
   ]
  },
  {
   "cell_type": "code",
   "execution_count": 34,
   "id": "ed53667d",
   "metadata": {},
   "outputs": [],
   "source": [
    "# miss_cart_order_ids = sorted(list(order_products[order_products['add_to_cart_order'].isna()]['order_id'].unique()))\n",
    "# order_products[order_products['order_id'].isin(miss_cart_order_ids)].groupby('order_id').size().sort_values()"
   ]
  },
  {
   "cell_type": "markdown",
   "id": "p9V6pddtjglj",
   "metadata": {
    "id": "p9V6pddtjglj"
   },
   "source": [
    "Descreva brevemente suas conclusões."
   ]
  },
  {
   "cell_type": "code",
   "execution_count": 35,
   "id": "7a987d08",
   "metadata": {
    "id": "7a987d08"
   },
   "outputs": [
    {
     "name": "stdout",
     "output_type": "stream",
     "text": [
      "int64\n"
     ]
    }
   ],
   "source": [
    "# Substitua valores ausentes na coluna 'add_to_cart_order' por 999 e converta a coluna para o tipo integer\n",
    "# Substituir valores ausentes por 999 na coluna 'add_to_cart_order'\n",
    "order_products['add_to_cart_order'].fillna(999, inplace=True)\n",
    "\n",
    "# Converter a coluna para o tipo integer\n",
    "order_products['add_to_cart_order'] = order_products['add_to_cart_order'].astype(int)\n",
    "\n",
    "# Verificar as alterações\n",
    "print(order_products['add_to_cart_order'].dtype)\n"
   ]
  },
  {
   "cell_type": "markdown",
   "id": "fea4bcc7",
   "metadata": {
    "id": "fea4bcc7"
   },
   "source": [
    "Descreva brevemente suas conclusões e o que você fez com elas."
   ]
  },
  {
   "cell_type": "markdown",
   "id": "RnplPFY1gSrb",
   "metadata": {
    "id": "RnplPFY1gSrb"
   },
   "source": [
    "## Conclusões\n",
    "\n",
    "Escreva aqui suas conclusões intermediárias da Etapa 2. Preparação de dados\n",
    "\n",
    "Remoção de valores duplicados:\n",
    "\n",
    "instacart_orders: Não encontrei registros duplicados, tanto no nível de pedidos quanto nos IDs de pedidos.\n",
    "products: Não há duplicatas de IDs de produtos. No entanto, encontrei 1465 valores ausentes em product_name, dos quais 207 produtos possuem nomes duplicados (sem valores faltando).\n",
    "departments: Não encontrei duplicatas no nível de departamentos.\n",
    "aisles: Não há registros duplicados ou IDs duplicados de corredores.\n",
    "order_products: Não encontrei duplicados em order_id ou product_id.\n",
    "Remoção e preenchimento de valores ausentes:\n",
    "\n",
    "products: A coluna product_name contém 1258 valores ausentes, todos relacionados ao corredor de ID 100 e ao departamento de ID 21, que têm o nome \"missing\". Substituí esses valores ausentes por \"Unknown\".\n",
    "orders: Não encontrei valores ausentes para clientes que não fazem o primeiro pedido.\n",
    "order_products: A coluna add_to_cart_order apresenta 836 valores ausentes. Após a análise, substituí esses valores ausentes por 999 e converti a coluna para o tipo inteiro.\n",
    "Valores ausentes em add_to_cart_order:\n",
    "\n",
    "Identifiquei que alguns pedidos com valores ausentes na coluna add_to_cart_order contêm mais de 1 produto, com o valor mínimo de produtos por pedido sendo 1.\n",
    "Os pedidos com valores ausentes foram tratados preenchendo os valores ausentes com 999.\n",
    "Próximos passos:\n",
    "Agora, a próxima etapa será garantir que os dados estejam prontos para análises mais profundas ou modelos de machine learning, garantindo que todos os dados estejam limpos e estruturados corretamente. Isso pode incluir a normalização, a transformação de variáveis categóricas e a criação de novas variáveis, conforme necessário."
   ]
  },
  {
   "cell_type": "markdown",
   "id": "UjrOIwTcz3ri",
   "metadata": {
    "id": "UjrOIwTcz3ri"
   },
   "source": [
    "# Etapa 3. Análise de dados\n",
    "\n",
    "Quando os dados estiverem processados ​​e prontos, execute a seguinte análise:"
   ]
  },
  {
   "cell_type": "markdown",
   "id": "turkish-kidney",
   "metadata": {
    "id": "turkish-kidney"
   },
   "source": [
    "# [A] Fácil (é necessário concluir tudo para passar)\n",
    "\n",
    "1.\tVerifique se os valores nas colunas `'order_hour_of_day'` e `'order_dow'` na tabela `orders` fazem sentido (ou seja, os valores da coluna  `'order_hour_of_day'` variam de 0 a 23 e os da `'order_dow'` variam de 0 a 6).\n",
    "2.\tCrie um gráfico que mostre quantas pessoas fazem pedidos a cada hora do dia.\n",
    "3.\tCrie um gráfico que mostre em que dia da semana as pessoas fazem compras.\n",
    "4.\tCrie um gráfico que mostre quanto tempo as pessoas esperam até fazer seu próximo pedido e comente sobre os valores mínimo e máximo.\n"
   ]
  },
  {
   "cell_type": "markdown",
   "id": "short-capability",
   "metadata": {
    "id": "short-capability"
   },
   "source": [
    "### [A1] Verifique se os valores fazem sentido"
   ]
  },
  {
   "cell_type": "code",
   "execution_count": 36,
   "id": "growing-fruit",
   "metadata": {
    "id": "growing-fruit"
   },
   "outputs": [
    {
     "name": "stdout",
     "output_type": "stream",
     "text": [
      "Valores únicos em 'order_hour_of_day': [0, 1, 2, 3, 4, 5, 6, 7, 8, 9, 10, 11, 12, 13, 14, 15, 16, 17, 18, 19, 20, 21, 22, 23]\n",
      "Valores únicos em 'order_dow': [0, 1, 2, 3, 4, 5, 6]\n"
     ]
    }
   ],
   "source": [
    "# Verifique se os valores da coluna 'order_hour_of_day' variam de 0 a 23\n",
    "hour_of_day_values = instacart_orders['order_hour_of_day'].unique()\n",
    "print(f\"Valores únicos em 'order_hour_of_day': {sorted(hour_of_day_values)}\")\n",
    "\n",
    "# Verifique se os valores da coluna 'order_dow' variam de 0 a 6\n",
    "dow_values = instacart_orders['order_dow'].unique()\n",
    "print(f\"Valores únicos em 'order_dow': {sorted(dow_values)}\")\n"
   ]
  },
  {
   "cell_type": "code",
   "execution_count": 37,
   "id": "accessory-malaysia",
   "metadata": {
    "id": "accessory-malaysia"
   },
   "outputs": [
    {
     "data": {
      "image/png": "[encoded data removed]",
      "text/plain": [
       "<Figure size 1000x600 with 1 Axes>"
      ]
     },
     "metadata": {},
     "output_type": "display_data"
    },
    {
     "data": {
      "image/png": "[encoded data removed]",
      "text/plain": [
       "<Figure size 1000x600 with 1 Axes>"
      ]
     },
     "metadata": {},
     "output_type": "display_data"
    },
    {
     "data": {
      "image/png": "[encoded data removed]",
      "text/plain": [
       "<Figure size 1000x600 with 1 Axes>"
      ]
     },
     "metadata": {},
     "output_type": "display_data"
    }
   ],
   "source": [
    "# 1. Gráfico de pedidos por hora do dia\n",
    "plt.figure(figsize=(10, 6))\n",
    "orders_by_hour = instacart_orders['order_hour_of_day'].value_counts().sort_index()\n",
    "plt.bar(orders_by_hour.index, orders_by_hour.values, color='skyblue')\n",
    "plt.title('Número de Pedidos por Hora do Dia')\n",
    "plt.xlabel('Hora do Dia')\n",
    "plt.ylabel('Número de Pedidos')\n",
    "plt.xticks(np.arange(0, 24, 1))  # De 0 a 23 horas\n",
    "plt.grid(True, axis='y', linestyle='--', alpha=0.7)\n",
    "plt.show()\n",
    "\n",
    "# 2. Gráfico de pedidos por dia da semana\n",
    "plt.figure(figsize=(10, 6))\n",
    "orders_by_dow = instacart_orders['order_dow'].value_counts().sort_index()\n",
    "dow_labels = ['Dom', 'Seg', 'Ter', 'Qua', 'Qui', 'Sex', 'Sáb']\n",
    "plt.bar(orders_by_dow.index, orders_by_dow.values, color='lightgreen')\n",
    "plt.title('Número de Pedidos por Dia da Semana')\n",
    "plt.xlabel('Dia da Semana')\n",
    "plt.ylabel('Número de Pedidos')\n",
    "plt.xticks(np.arange(0, 7), dow_labels)  # De 0 a 6 (Domingo a Sábado)\n",
    "plt.grid(True, axis='y', linestyle='--', alpha=0.7)\n",
    "plt.show()\n",
    "\n",
    "# 3. Gráfico de tempo até o próximo pedido\n",
    "plt.figure(figsize=(10, 6))\n",
    "# Considerando que 'days_since_prior_order' representa o tempo em dias até o próximo pedido\n",
    "time_between_orders = instacart_orders['days_since_prior_order'].dropna()  # Remover valores nulos, se houver\n",
    "plt.hist(time_between_orders, bins=50, color='salmon', edgecolor='black')\n",
    "plt.title('Distribuição do Tempo até o Próximo Pedido')\n",
    "plt.xlabel('Dias até o Próximo Pedido')\n",
    "plt.ylabel('Número de Pedidos')\n",
    "plt.grid(True, axis='y', linestyle='--', alpha=0.7)\n",
    "plt.show()"
   ]
  },
  {
   "cell_type": "markdown",
   "id": "hmR2GNQ6lCsX",
   "metadata": {
    "id": "hmR2GNQ6lCsX"
   },
   "source": [
    "Escreva suas conclusões aqui"
   ]
  },
  {
   "cell_type": "markdown",
   "id": "a6743a70",
   "metadata": {
    "id": "a6743a70"
   },
   "source": [
    "### [A2] Quantas pessoas fazem pedidos a cada hora do dia?"
   ]
  },
  {
   "cell_type": "code",
   "execution_count": null,
   "id": "a36cca27",
   "metadata": {
    "id": "a36cca27"
   },
   "outputs": [],
   "source": []
  },
  {
   "cell_type": "markdown",
   "id": "11270eed",
   "metadata": {
    "id": "11270eed"
   },
   "source": [
    "Escreva suas conclusões aqui"
   ]
  },
  {
   "cell_type": "markdown",
   "id": "documented-command",
   "metadata": {
    "id": "documented-command"
   },
   "source": [
    "### [A3] Em que dia da semana as pessoas compram produtos alimentícios?"
   ]
  },
  {
   "cell_type": "code",
   "execution_count": 38,
   "id": "chief-digit",
   "metadata": {
    "id": "chief-digit"
   },
   "outputs": [
    {
     "data": {
      "image/png": "[encoded data removed]",
      "text/plain": [
       "<Figure size 1000x500 with 1 Axes>"
      ]
     },
     "metadata": {},
     "output_type": "display_data"
    }
   ],
   "source": [
    "avg_orders_by_hour = instacart_orders.groupby('order_hour_of_day')['user_id'].nunique()\n",
    "\n",
    "# Criar o gráfico de barras\n",
    "plt.figure(figsize=(10, 5))\n",
    "plt.bar(avg_orders_by_hour.index, avg_orders_by_hour, color='skyblue')\n",
    "\n",
    "# Configurações do gráfico\n",
    "plt.xlabel('Hora do dia')\n",
    "plt.ylabel('Número médio de pedidos')\n",
    "plt.title('Média de pedidos por hora do dia')\n",
    "plt.xticks(range(24))  # Garante que todas as horas sejam exibidas\n",
    "plt.grid(axis='y', linestyle='--', alpha=0.7)\n",
    "\n",
    "# Exibir o gráfico\n",
    "plt.show()"
   ]
  },
  {
   "cell_type": "markdown",
   "id": "dominant-lightning",
   "metadata": {
    "id": "dominant-lightning"
   },
   "source": [
    "Escreva suas conclusões aqui"
   ]
  },
  {
   "cell_type": "markdown",
   "id": "f4948a4e",
   "metadata": {},
   "source": [
    "<s>\n",
    "    <div class=\"alert alert-block alert-danger\">\n",
    "<b> Comentário do revisor: </b> <a class=\"tocSkip\"></a>\n",
    "\n",
    "Precisa plotar um gráfico de barras. Lembre-se de que uma imagem vale mais do que mil palavras\n",
    "</div>\n"
   ]
  },
  {
   "cell_type": "markdown",
   "id": "cutting-concert",
   "metadata": {
    "id": "cutting-concert"
   },
   "source": [
    "### [A4] Quanto tempo as pessoas esperam até fazer outro pedido?"
   ]
  },
  {
   "cell_type": "markdown",
   "id": "discrete-vertex",
   "metadata": {
    "id": "discrete-vertex"
   },
   "source": [
    "Escreva suas conclusões aqui"
   ]
  },
  {
   "cell_type": "code",
   "execution_count": 39,
   "id": "gMOIimGd5VNb",
   "metadata": {
    "id": "gMOIimGd5VNb"
   },
   "outputs": [
    {
     "name": "stdout",
     "output_type": "stream",
     "text": [
      "Média de dias até o próximo pedido: 11.101813900274362\n"
     ]
    },
    {
     "data": {
      "image/png": "[encoded data removed]",
      "text/plain": [
       "<Figure size 600x400 with 1 Axes>"
      ]
     },
     "metadata": {},
     "output_type": "display_data"
    }
   ],
   "source": [
    "# Calcular a média de dias entre pedidos\n",
    "avg_days_since_prior_order = instacart_orders['days_since_prior_order'].mean()\n",
    "\n",
    "# Exibir a média\n",
    "print(f\"Média de dias até o próximo pedido: {avg_days_since_prior_order}\")\n",
    "\n",
    "# Criar o gráfico de barras com a média destacada\n",
    "plt.figure(figsize=(6, 4))\n",
    "plt.bar(['Média de dias entre pedidos'], [avg_days_since_prior_order], color='skyblue')\n",
    "\n",
    "# Adicionar o valor da média no topo da barra\n",
    "plt.text(0, avg_days_since_prior_order + 0.2, f'{avg_days_since_prior_order:.2f}', ha='center', fontsize=12, fontweight='bold')\n",
    "\n",
    "# Configurações do gráfico\n",
    "plt.ylabel('Dias')\n",
    "plt.title('Média de dias entre pedidos')\n",
    "plt.ylim(0, avg_days_since_prior_order * 1.5)  # Ajusta o limite do eixo Y para melhor visualização\n",
    "\n",
    "# Exibir o gráfico\n",
    "plt.show()\n"
   ]
  },
  {
   "cell_type": "markdown",
   "id": "12981452",
   "metadata": {},
   "source": [
    "<div class=\"alert alert-block alert-danger\">\n",
    "<b> Comentário do revisor: </b> <a class=\"tocSkip\"></a>\n",
    "\n",
    "Precisa plotar um gráfico de barras. Lembre-se de que uma imagem vale mais do que mil palavras\n",
    "</div>\n"
   ]
  },
  {
   "cell_type": "markdown",
   "id": "b2ae3979",
   "metadata": {},
   "source": [
    "<div class=\"alert alert-block alert-warning\">\n",
    "<b> Comentário do revisor v2: </b> <a class=\"tocSkip\"></a>\n",
    "\n",
    "Peço desculpas por não ter deixado claro: a ideia seria plotar a distribuição. Se for apenans a média (ou um número apenas), não faz muito sentido plotar um gráfico, basta apenas apresentar o valor. O ideal é usar gráfico para enriquecer, apresentar distribuições, padrões. Veja código abaixo\n",
    "</div>\n"
   ]
  },
  {
   "cell_type": "code",
   "execution_count": 40,
   "id": "9311c83d",
   "metadata": {},
   "outputs": [
    {
     "data": {
      "image/png": "[encoded data removed]",
      "text/plain": [
       "<Figure size 640x480 with 1 Axes>"
      ]
     },
     "metadata": {},
     "output_type": "display_data"
    }
   ],
   "source": [
    "instacart_orders['days_since_prior_order'].value_counts().sort_index().plot(kind='bar',\n",
    "                                                                  title='Days since prior order',\n",
    "                                                                  xlabel='Number of days',\n",
    "                                                                  ylabel='Number of orders'\n",
    "                                                                 )\n",
    "plt.show()"
   ]
  },
  {
   "cell_type": "markdown",
   "id": "tight-staff",
   "metadata": {
    "id": "tight-staff"
   },
   "source": [
    "# [B] Médio (é necessário concluir tudo para passar)\n",
    "\n",
    "1.\tHá alguma diferença nas distribuições de `'order_hour_of_day'` nas quartas e sábados? Construa gráficos de barras para ambos os dias no mesmo gráfico e descreva as diferenças que você notou.\n",
    "2.\tConstrua um gráfico de distribuição para o número de pedidos que os clientes fazem (ou seja, quantos clientes fizeram apenas 1 pedido, quantos fizeram apenas 2, quantos apenas 3, etc.)\n",
    "3.\tQuais são os 20 produtos comprados com mais frequência? Exiba os IDs e nomes.\n"
   ]
  },
  {
   "cell_type": "markdown",
   "id": "packed-classic",
   "metadata": {
    "id": "packed-classic"
   },
   "source": [
    "### [B1] Diferenças nas quartas e sábados em `'order_hour_of_day'`. Crie gráficos de barras para ambos os dias e descreva as diferenças."
   ]
  },
  {
   "cell_type": "code",
   "execution_count": 41,
   "id": "d89b8403",
   "metadata": {
    "id": "d89b8403"
   },
   "outputs": [
    {
     "data": {
      "image/png": "[encoded data removed]",
      "text/plain": [
       "<Figure size 1000x600 with 1 Axes>"
      ]
     },
     "metadata": {},
     "output_type": "display_data"
    }
   ],
   "source": [
    "# Filtrar os dados para quartas e sábados\n",
    "wednesday_orders = instacart_orders[instacart_orders['order_dow'] == 3]  # Quarta-feira\n",
    "saturday_orders = instacart_orders[instacart_orders['order_dow'] == 6]  # Sábado\n",
    "\n",
    "# Contar o número de pedidos por hora do dia para ambos os dias\n",
    "wednesday_hour_counts = wednesday_orders['order_hour_of_day'].value_counts().sort_index()\n",
    "saturday_hour_counts = saturday_orders['order_hour_of_day'].value_counts().sort_index()\n",
    "\n",
    "# Criar gráfico de barras comparando as distribuições de horas de pedido nas quartas e sábados\n",
    "plt.figure(figsize=(10, 6))\n",
    "plt.bar(wednesday_hour_counts.index - 0.2, wednesday_hour_counts.values, width=0.4, label='Quarta-feira', color='skyblue')\n",
    "plt.bar(saturday_hour_counts.index + 0.2, saturday_hour_counts.values, width=0.4, label='Sábado', color='salmon')\n",
    "\n",
    "plt.title('Distribuição de Pedidos por Hora do Dia (Quarta-feira vs Sábado)', fontsize=14)\n",
    "plt.xlabel('Hora do Dia', fontsize=12)\n",
    "plt.ylabel('Número de Pedidos', fontsize=12)\n",
    "plt.xticks(range(24))  # Mostrar todas as horas do dia\n",
    "plt.legend()\n",
    "plt.show()\n"
   ]
  },
  {
   "cell_type": "code",
   "execution_count": 42,
   "id": "94e54e8a",
   "metadata": {
    "id": "94e54e8a"
   },
   "outputs": [
    {
     "data": {
      "image/png": "[encoded data removed]",
      "text/plain": [
       "<Figure size 1000x600 with 1 Axes>"
      ]
     },
     "metadata": {},
     "output_type": "display_data"
    }
   ],
   "source": [
    "# Contar o número de pedidos por cliente\n",
    "orders_per_customer = instacart_orders.groupby('user_id')['order_id'].nunique()\n",
    "\n",
    "# Contar a frequência de clientes que fizeram 1, 2, 3, etc. pedidos\n",
    "orders_count_distribution = orders_per_customer.value_counts().sort_index()\n",
    "\n",
    "# Plotar gráfico de distribuição\n",
    "plt.figure(figsize=(10, 6))\n",
    "plt.bar(orders_count_distribution.index, orders_count_distribution.values, color='skyblue')\n",
    "\n",
    "plt.title('Distribuição do Número de Pedidos por Cliente', fontsize=14)\n",
    "plt.xlabel('Número de Pedidos', fontsize=12)\n",
    "plt.ylabel('Número de Clientes', fontsize=12)\n",
    "plt.xticks(orders_count_distribution.index)  # Mostrar todos os valores únicos\n",
    "plt.show()"
   ]
  },
  {
   "cell_type": "code",
   "execution_count": 43,
   "id": "797c90a8",
   "metadata": {
    "id": "797c90a8"
   },
   "outputs": [
    {
     "name": "stdout",
     "output_type": "stream",
     "text": [
      "       product_id              product_name\n",
      "5875         5876             Organic Lemon\n",
      "8276         8277  Apple Honeycrisp Organic\n",
      "13175       13176    Bag of Organic Bananas\n",
      "16796       16797              Strawberries\n",
      "21136       21137      Organic Strawberries\n",
      "21902       21903      Organic Baby Spinach\n",
      "22934       22935      Organic Yellow Onion\n",
      "24851       24852                    Banana\n",
      "24963       24964            Organic Garlic\n",
      "26208       26209                     Limes\n",
      "27844       27845        Organic Whole Milk\n",
      "27965       27966       Organic Raspberries\n",
      "28203       28204        Organic Fuji Apple\n",
      "39274       39275       Organic Blueberries\n",
      "40705       40706    Organic Grape Tomatoes\n",
      "45006       45007          Organic Zucchini\n",
      "47208       47209      Organic Hass Avocado\n",
      "47625       47626               Large Lemon\n",
      "47765       47766           Organic Avocado\n",
      "49682       49683            Cucumber Kirby\n"
     ]
    }
   ],
   "source": [
    "# Contar quantas vezes cada produto foi comprado, agrupando por product_id\n",
    "product_counts = order_products.groupby('product_id')['order_id'].nunique().sort_values(ascending=False).head(20)\n",
    "\n",
    "# Obter os IDs dos 20 produtos mais comprados\n",
    "top_20_product_ids = product_counts.index\n",
    "\n",
    "# Obter os nomes dos produtos a partir da tabela 'products' para os IDs mais comprados\n",
    "top_20_products = products[products['product_id'].isin(top_20_product_ids)]\n",
    "\n",
    "# Exibir os 20 produtos mais comprados com seus IDs e nomes\n",
    "top_20_products = top_20_products[['product_id', 'product_name']]\n",
    "\n",
    "# Exibir o resultado\n",
    "print(top_20_products)"
   ]
  },
  {
   "cell_type": "code",
   "execution_count": null,
   "id": "35bcea30",
   "metadata": {
    "id": "35bcea30"
   },
   "outputs": [],
   "source": []
  },
  {
   "cell_type": "markdown",
   "id": "charitable-congo",
   "metadata": {
    "id": "charitable-congo"
   },
   "source": [
    "Escreva suas conclusões aqui"
   ]
  },
  {
   "cell_type": "markdown",
   "id": "e3891143",
   "metadata": {
    "id": "e3891143"
   },
   "source": [
    "### [B2] Qual é a distribuição do número de pedidos por cliente?"
   ]
  },
  {
   "cell_type": "code",
   "execution_count": 44,
   "id": "d8c26c23",
   "metadata": {
    "id": "d8c26c23"
   },
   "outputs": [
    {
     "data": {
      "image/png": "[encoded data removed]",
      "text/plain": [
       "<Figure size 1000x600 with 1 Axes>"
      ]
     },
     "metadata": {},
     "output_type": "display_data"
    }
   ],
   "source": [
    "# Agrupar pelos 'user_id' e contar quantos pedidos cada cliente fez\n",
    "orders_per_customer = instacart_orders.groupby('user_id')['order_number'].max()\n",
    "\n",
    "# Plotar a distribuição do número de pedidos por cliente\n",
    "plt.figure(figsize=(10,6))\n",
    "plt.hist(orders_per_customer, bins=range(1, orders_per_customer.max()+1), edgecolor='black', alpha=0.7)\n",
    "plt.title('Distribuição do Número de Pedidos por Cliente')\n",
    "plt.xlabel('Número de Pedidos')\n",
    "plt.ylabel('Número de Clientes')\n",
    "plt.show()\n"
   ]
  },
  {
   "cell_type": "code",
   "execution_count": null,
   "id": "00e69a66",
   "metadata": {
    "id": "00e69a66"
   },
   "outputs": [],
   "source": []
  },
  {
   "cell_type": "markdown",
   "id": "d2eff7d5",
   "metadata": {
    "id": "d2eff7d5"
   },
   "source": [
    "Escreva suas conclusões aqui"
   ]
  },
  {
   "cell_type": "markdown",
   "id": "54a0319c",
   "metadata": {
    "id": "54a0319c"
   },
   "source": [
    "### [B3] Quais são os 20 produtos mais populares? Exiba os IDs e nomes."
   ]
  },
  {
   "cell_type": "code",
   "execution_count": 45,
   "id": "exterior-arizona",
   "metadata": {
    "id": "exterior-arizona",
    "scrolled": true
   },
   "outputs": [
    {
     "name": "stdout",
     "output_type": "stream",
     "text": [
      "            product_id              product_name\n",
      "product_id                                      \n",
      "24852            24852                    Banana\n",
      "13176            13176    Bag of Organic Bananas\n",
      "21137            21137      Organic Strawberries\n",
      "21903            21903      Organic Baby Spinach\n",
      "47209            47209      Organic Hass Avocado\n",
      "47766            47766           Organic Avocado\n",
      "47626            47626               Large Lemon\n",
      "16797            16797              Strawberries\n",
      "26209            26209                     Limes\n",
      "27845            27845        Organic Whole Milk\n",
      "27966            27966       Organic Raspberries\n",
      "22935            22935      Organic Yellow Onion\n",
      "24964            24964            Organic Garlic\n",
      "45007            45007          Organic Zucchini\n",
      "39275            39275       Organic Blueberries\n",
      "49683            49683            Cucumber Kirby\n",
      "28204            28204        Organic Fuji Apple\n",
      "5876              5876             Organic Lemon\n",
      "8277              8277  Apple Honeycrisp Organic\n",
      "40706            40706    Organic Grape Tomatoes\n"
     ]
    }
   ],
   "source": [
    "# Contar quantas vezes cada produto foi comprado\n",
    "product_counts = order_products.groupby('product_id')['order_id'].nunique().sort_values(ascending=False).head(20)\n",
    "\n",
    "# Unir com a tabela de produtos para obter os nomes\n",
    "top_20_products = product_counts.index.to_frame(name='product_id')\n",
    "top_20_products['product_name'] = top_20_products['product_id'].map(products.set_index('product_id')['product_name'])\n",
    "\n",
    "# Exibir os resultados\n",
    "print(top_20_products)"
   ]
  },
  {
   "cell_type": "code",
   "execution_count": null,
   "id": "universal-facial",
   "metadata": {
    "id": "universal-facial"
   },
   "outputs": [],
   "source": []
  },
  {
   "cell_type": "code",
   "execution_count": null,
   "id": "bbcdd20b",
   "metadata": {
    "id": "bbcdd20b"
   },
   "outputs": [],
   "source": []
  },
  {
   "cell_type": "markdown",
   "id": "7df00f47",
   "metadata": {
    "id": "7df00f47"
   },
   "source": [
    "Escreva suas conclusões aqui"
   ]
  },
  {
   "cell_type": "markdown",
   "id": "gross-theme",
   "metadata": {
    "id": "gross-theme"
   },
   "source": [
    "# [C] Difícil (é necessário concluir pelo menos duas perguntas para passar)\n",
    "\n",
    "1.\tQuantos itens as pessoas normalmente compram em um pedido? Como fica a distribuição?\n",
    "2.\tQuais são os 20 principais itens incluídos mais frequentemente em pedidos repetidos? Exiba os IDs e nomes.\n",
    "3.\tPara cada produto, qual parcela de seus pedidos são repetidos? Crie uma tabela com colunas de ID e nome do produto e a proporção de pedidos repetidos.\n",
    "4.\tPara cada cliente, qual proporção de todos os seus pedidos são repetidos?\n",
    "5.\tQuais são os 20 principais itens que as pessoas colocam nos carrinhos antes de todos os outros? Exiba o ID do produto, nome e o número de vezes que ele foi o primeiro a ser adicionado a um carrinho.\n"
   ]
  },
  {
   "cell_type": "markdown",
   "id": "romantic-deposit",
   "metadata": {
    "id": "romantic-deposit"
   },
   "source": [
    "### [C1] Quantos itens as pessoas normalmente compram em um pedido? Como fica a distribuição?"
   ]
  },
  {
   "cell_type": "code",
   "execution_count": 46,
   "id": "virtual-punch",
   "metadata": {
    "id": "virtual-punch"
   },
   "outputs": [
    {
     "name": "stdout",
     "output_type": "stream",
     "text": [
      "Média de itens por pedido: 10.098983215049127\n"
     ]
    },
    {
     "data": {
      "image/png": "[encoded data removed]",
      "text/plain": [
       "<Figure size 1000x600 with 1 Axes>"
      ]
     },
     "metadata": {},
     "output_type": "display_data"
    }
   ],
   "source": [
    "# Contar o número de itens por pedido\n",
    "items_per_order = order_products.groupby('order_id')['product_id'].count()\n",
    "\n",
    "# Calcular a média e a distribuição\n",
    "mean_items_per_order = items_per_order.mean()\n",
    "distribution_items_per_order = items_per_order.value_counts().sort_index()\n",
    "\n",
    "# Exibir resultados\n",
    "print(f'Média de itens por pedido: {mean_items_per_order}')\n",
    "distribution_items_per_order.plot(kind='bar', figsize=(10, 6), title='Distribuição de itens por pedido')\n",
    "plt.xlabel('Número de Itens')\n",
    "plt.ylabel('Número de Pedidos')\n",
    "plt.show()\n"
   ]
  },
  {
   "cell_type": "code",
   "execution_count": null,
   "id": "sensitive-breathing",
   "metadata": {
    "id": "sensitive-breathing"
   },
   "outputs": [],
   "source": []
  },
  {
   "cell_type": "code",
   "execution_count": null,
   "id": "completed-frank",
   "metadata": {
    "id": "completed-frank"
   },
   "outputs": [],
   "source": []
  },
  {
   "cell_type": "markdown",
   "id": "designed-mortality",
   "metadata": {
    "id": "designed-mortality"
   },
   "source": [
    "Escreva suas conclusões aqui"
   ]
  },
  {
   "cell_type": "markdown",
   "id": "5e6b5537",
   "metadata": {
    "id": "5e6b5537"
   },
   "source": [
    "### [C2] Quais são os 20 principais itens incluídos com mais frequência em pedidos repetidos? Exiba os IDs e nomes."
   ]
  },
  {
   "cell_type": "code",
   "execution_count": 47,
   "id": "9374e55a",
   "metadata": {
    "id": "9374e55a"
   },
   "outputs": [
    {
     "name": "stdout",
     "output_type": "stream",
     "text": [
      "            product_id              product_name\n",
      "product_id                                      \n",
      "24852            24852                    Banana\n",
      "13176            13176    Bag of Organic Bananas\n",
      "21137            21137      Organic Strawberries\n",
      "21903            21903      Organic Baby Spinach\n",
      "47209            47209      Organic Hass Avocado\n",
      "47766            47766           Organic Avocado\n",
      "27845            27845        Organic Whole Milk\n",
      "47626            47626               Large Lemon\n",
      "27966            27966       Organic Raspberries\n",
      "16797            16797              Strawberries\n",
      "26209            26209                     Limes\n",
      "22935            22935      Organic Yellow Onion\n",
      "24964            24964            Organic Garlic\n",
      "45007            45007          Organic Zucchini\n",
      "49683            49683            Cucumber Kirby\n",
      "28204            28204        Organic Fuji Apple\n",
      "8277              8277  Apple Honeycrisp Organic\n",
      "39275            39275       Organic Blueberries\n",
      "5876              5876             Organic Lemon\n",
      "49235            49235       Organic Half & Half\n"
     ]
    }
   ],
   "source": [
    "# Filtrar pedidos repetidos\n",
    "repeated_orders = order_products[order_products['reordered'] == 1]\n",
    "\n",
    "# Contar a frequência de cada produto em pedidos repetidos\n",
    "top_20_repeated_products = repeated_orders.groupby('product_id')['order_id'].nunique().sort_values(ascending=False).head(20)\n",
    "\n",
    "# Unir com a tabela de produtos para obter os nomes dos produtos\n",
    "top_20_repeated_products_info = top_20_repeated_products.index.to_frame(name='product_id')\n",
    "top_20_repeated_products_info['product_name'] = top_20_repeated_products_info['product_id'].map(products.set_index('product_id')['product_name'])\n",
    "\n",
    "# Exibir os resultados\n",
    "print(top_20_repeated_products_info)\n"
   ]
  },
  {
   "cell_type": "code",
   "execution_count": null,
   "id": "possible-change",
   "metadata": {
    "id": "possible-change",
    "scrolled": true
   },
   "outputs": [],
   "source": []
  },
  {
   "cell_type": "code",
   "execution_count": null,
   "id": "professional-surfing",
   "metadata": {
    "id": "professional-surfing",
    "scrolled": true
   },
   "outputs": [],
   "source": []
  },
  {
   "cell_type": "code",
   "execution_count": null,
   "id": "48dd3658",
   "metadata": {
    "id": "48dd3658"
   },
   "outputs": [],
   "source": []
  },
  {
   "cell_type": "markdown",
   "id": "80e70c74",
   "metadata": {
    "id": "80e70c74"
   },
   "source": [
    "Escreva suas conclusões aqui"
   ]
  },
  {
   "cell_type": "markdown",
   "id": "9d312b14",
   "metadata": {
    "id": "9d312b14"
   },
   "source": [
    "### [C3] Para cada produto, qual parcela de todos os pedidos dele são repetidos?"
   ]
  },
  {
   "cell_type": "code",
   "execution_count": 48,
   "id": "8ae9f4b1",
   "metadata": {
    "id": "8ae9f4b1"
   },
   "outputs": [
    {
     "name": "stdout",
     "output_type": "stream",
     "text": [
      "            repeated_order_ratio  \\\n",
      "product_id                         \n",
      "12038                        1.0   \n",
      "1809                         1.0   \n",
      "36122                        1.0   \n",
      "3205                         1.0   \n",
      "41901                        1.0   \n",
      "46398                        1.0   \n",
      "10378                        1.0   \n",
      "31026                        1.0   \n",
      "46437                        1.0   \n",
      "20787                        1.0   \n",
      "1814                         1.0   \n",
      "46445                        1.0   \n",
      "29168                        1.0   \n",
      "25777                        1.0   \n",
      "43895                        1.0   \n",
      "31011                        1.0   \n",
      "6490                         1.0   \n",
      "1806                         1.0   \n",
      "1805                         1.0   \n",
      "16106                        1.0   \n",
      "\n",
      "                                                 product_name  \n",
      "product_id                                                     \n",
      "12038                for Women Maximum Absorbency L Underwear  \n",
      "1809        Slow Kettle Style Santa Fe Chicken Enchilada S...  \n",
      "36122                                       Spicy Chili Beans  \n",
      "3205                  Original Pure Chocolate Whippet Cookies  \n",
      "41901        Moisturizing Lotionized Shave Gel with Vitamin E  \n",
      "46398                               Chocolate Animal Crackers  \n",
      "10378                              Honey Flake & Oat Clusters  \n",
      "31026                                 Drinkable Yogurt- Mango  \n",
      "46437                 Spinach Saag Medium Indian Simmer Sauce  \n",
      "20787                                  West Coast Style Stout  \n",
      "1814                    Austin's Own Goodflow Honey Green Tea  \n",
      "46445                                  Organic Tropical Mango  \n",
      "29168                                   Beef Chuck Short Ribs  \n",
      "25777                                 Instant Nonfat Dry Milk  \n",
      "43895                                    Sugar Land Sweet Tea  \n",
      "31011       Natural Instincts Non-Permanent Hair Color Cin...  \n",
      "6490        Vitamin D3 1000 IU in Extra Virgin Olive Oil S...  \n",
      "1806                    Strawberry Unsweetened Soft Drink Mix  \n",
      "1805                   Organic Lemon Agave Ginger Super Juice  \n",
      "16106                                               Budweiser  \n"
     ]
    }
   ],
   "source": [
    "# Contar o número total de pedidos para cada produto\n",
    "total_orders_per_product = order_products.groupby('product_id')['order_id'].nunique()\n",
    "\n",
    "# Contar o número de pedidos repetidos para cada produto\n",
    "repeated_orders_per_product = order_products[order_products['reordered'] == 1].groupby('product_id')['order_id'].nunique()\n",
    "\n",
    "# Calcular a proporção de pedidos repetidos\n",
    "repeated_order_ratio = repeated_orders_per_product / total_orders_per_product\n",
    "\n",
    "# Criar um DataFrame com os resultados e unir com os nomes dos produtos\n",
    "repeated_order_ratio_df = repeated_order_ratio.to_frame(name='repeated_order_ratio')\n",
    "repeated_order_ratio_df['product_name'] = repeated_order_ratio_df.index.map(products.set_index('product_id')['product_name'])\n",
    "\n",
    "# Exibir os produtos e suas respectivas proporções de pedidos repetidos\n",
    "print(repeated_order_ratio_df.sort_values(by='repeated_order_ratio', ascending=False).head(20))\n"
   ]
  },
  {
   "cell_type": "markdown",
   "id": "2afefd89",
   "metadata": {},
   "source": [
    "<div class=\"alert alert-block alert-success\">\n",
    "<b> Comentário do revisor: </b> <a class=\"tocSkip\"></a>\n",
    "\n",
    "Vou deixar um código mais enxuto como exemplo\n",
    "</div>\n"
   ]
  },
  {
   "cell_type": "code",
   "execution_count": 49,
   "id": "103e7fe1",
   "metadata": {
    "id": "103e7fe1"
   },
   "outputs": [],
   "source": [
    "# df_merge = order_products.merge(products)\n",
    "# reorder_rate = df_merge.groupby(['product_id', 'product_name'])['reordered'].mean()\n",
    "# reorder_rate"
   ]
  },
  {
   "cell_type": "code",
   "execution_count": null,
   "id": "social-individual",
   "metadata": {
    "id": "social-individual"
   },
   "outputs": [],
   "source": []
  },
  {
   "cell_type": "markdown",
   "id": "I10dEIAyldcO",
   "metadata": {
    "id": "I10dEIAyldcO"
   },
   "source": [
    "Escreva suas conclusões aqui"
   ]
  },
  {
   "cell_type": "markdown",
   "id": "subject-boxing",
   "metadata": {
    "id": "subject-boxing"
   },
   "source": [
    "### [C4] Para cada cliente, qual proporção de todos os seus pedidos são repetidos?"
   ]
  },
  {
   "cell_type": "code",
   "execution_count": 50,
   "id": "medical-couple",
   "metadata": {
    "id": "medical-couple",
    "scrolled": true
   },
   "outputs": [
    {
     "name": "stdout",
     "output_type": "stream",
     "text": [
      "user_id\n",
      "206209    1.0\n",
      "182818    1.0\n",
      "99887     1.0\n",
      "192072    1.0\n",
      "99884     1.0\n",
      "99883     1.0\n",
      "99880     1.0\n",
      "99879     1.0\n",
      "192073    1.0\n",
      "99875     1.0\n",
      "164185    1.0\n",
      "192076    1.0\n",
      "99867     1.0\n",
      "99866     1.0\n",
      "192077    1.0\n",
      "99864     1.0\n",
      "99861     1.0\n",
      "182817    1.0\n",
      "99858     1.0\n",
      "99857     1.0\n",
      "Name: order_id, dtype: float64\n"
     ]
    }
   ],
   "source": [
    "# Contar o número total de pedidos para cada cliente\n",
    "total_orders_per_customer = instacart_orders.groupby('user_id')['order_id'].nunique()\n",
    "\n",
    "# Contar o número de pedidos repetidos para cada cliente\n",
    "repeated_orders_per_customer = instacart_orders[instacart_orders['order_id'].isin(order_products[order_products['reordered'] == 1]['order_id'])]\n",
    "repeated_orders_per_customer = repeated_orders_per_customer.groupby('user_id')['order_id'].nunique()\n",
    "\n",
    "# Calcular a proporção de pedidos repetidos\n",
    "repeated_order_ratio_per_customer = repeated_orders_per_customer / total_orders_per_customer\n",
    "\n",
    "# Exibir os resultados\n",
    "print(repeated_order_ratio_per_customer.sort_values(ascending=False).head(20))\n"
   ]
  },
  {
   "cell_type": "markdown",
   "id": "b3795b74",
   "metadata": {},
   "source": [
    "<div class=\"alert alert-block alert-success\">\n",
    "<b> Comentário do revisor: </b> <a class=\"tocSkip\"></a>\n",
    "\n",
    "Vou deixar um código mais enxuto como exemplo\n",
    "</div>\n"
   ]
  },
  {
   "cell_type": "code",
   "execution_count": 51,
   "id": "96e53431",
   "metadata": {
    "id": "8892e4b4"
   },
   "outputs": [],
   "source": [
    "# df_merge = order_products.merge(orders)\n",
    "# reorder_pct = df_merge.groupby('user_id')['reordered'].mean()\n",
    "# reorder_pct"
   ]
  },
  {
   "cell_type": "markdown",
   "id": "BgJSvXDsleXz",
   "metadata": {
    "id": "BgJSvXDsleXz"
   },
   "source": [
    "Escreva suas conclusões aqui"
   ]
  },
  {
   "cell_type": "markdown",
   "id": "92d35137",
   "metadata": {
    "id": "92d35137"
   },
   "source": [
    "### [C5] Quais são os 20 principais itens que as pessoas colocam nos carrinhos antes de todos os outros?"
   ]
  },
  {
   "cell_type": "code",
   "execution_count": 52,
   "id": "0ae57274",
   "metadata": {
    "id": "0ae57274",
    "scrolled": true
   },
   "outputs": [
    {
     "name": "stdout",
     "output_type": "stream",
     "text": [
      "       product_id  count                 product_name\n",
      "13414       24852  15562                       Banana\n",
      "7127        13176  11026       Bag of Organic Bananas\n",
      "15028       27845   4363           Organic Whole Milk\n",
      "11384       21137   3946         Organic Strawberries\n",
      "25439       47209   3390         Organic Hass Avocado\n",
      "11786       21903   3336         Organic Baby Spinach\n",
      "25732       47766   3044              Organic Avocado\n",
      "10622       19660   2336                 Spring Water\n",
      "9050        16797   2308                 Strawberries\n",
      "15102       27966   2024          Organic Raspberries\n",
      "24024       44632   1914   Sparkling Water Grapefruit\n",
      "26519       49235   1797          Organic Half & Half\n",
      "25658       47626   1737                  Large Lemon\n",
      "115           196   1733                         Soda\n",
      "20853       38689   1397     Organic Reduced Fat Milk\n",
      "14158       26209   1370                        Limes\n",
      "6660        12341   1340                Hass Avocados\n",
      "3153         5785   1310  Organic Reduced Fat 2% Milk\n",
      "14639       27086   1309                  Half & Half\n",
      "23335       43352   1246                  Raspberries\n"
     ]
    }
   ],
   "source": [
    "# Filtrar os itens que foram colocados primeiro no carrinho (add_to_cart_order == 1)\n",
    "first_items_in_cart = order_products[order_products['add_to_cart_order'] == 1]\n",
    "\n",
    "# Contar quantas vezes cada produto foi o primeiro a ser adicionado ao carrinho\n",
    "first_item_counts = first_items_in_cart.groupby('product_id').size().reset_index(name='count')\n",
    "\n",
    "# Unir com a tabela de produtos para obter o nome do produto\n",
    "first_item_info = first_item_counts.merge(products[['product_id', 'product_name']], on='product_id')\n",
    "\n",
    "# Ordenar os produtos pelo número de vezes que foram colocados em primeiro e pegar os 20 mais frequentes\n",
    "top_20_first_items = first_item_info.sort_values(by='count', ascending=False).head(20)\n",
    "\n",
    "print(top_20_first_items)\n"
   ]
  },
  {
   "cell_type": "code",
   "execution_count": null,
   "id": "forty-netherlands",
   "metadata": {
    "id": "forty-netherlands",
    "scrolled": true
   },
   "outputs": [],
   "source": []
  },
  {
   "cell_type": "code",
   "execution_count": null,
   "id": "08e41ec2",
   "metadata": {
    "id": "08e41ec2"
   },
   "outputs": [],
   "source": []
  },
  {
   "cell_type": "markdown",
   "id": "28ce9872",
   "metadata": {
    "id": "28ce9872"
   },
   "source": [
    "Escreva suas conclusões aqui"
   ]
  },
  {
   "cell_type": "markdown",
   "id": "TisH_5Cp3wAi",
   "metadata": {
    "id": "TisH_5Cp3wAi"
   },
   "source": [
    "# Conclusão geral do projeto:\n",
    "\n",
    "# Conclusão Geral\n",
    "\n",
    "Neste projeto, analisamos dados provenientes do aplicativo da Instacart, com o objetivo de obter insights sobre o comportamento dos consumidores, suas preferências de compra e os padrões de pedidos. As análises realizadas abordaram vários aspectos dos dados, desde a distribuição de pedidos ao longo do dia até a frequência com que certos produtos são adicionados aos carrinhos e comprados repetidamente.\n",
    "\n",
    "#  Comportamento de Compra ao Longo do Tempo\n",
    "   - **Distribuição dos pedidos por hora do dia e dia da semana**: A análise mostrou picos de compras em horários específicos, permitindo identificar as horas de maior atividade no aplicativo. Além disso, a distribuição de pedidos ao longo da semana revelou dias específicos de maior movimento, como as quartas e sábados, o que pode ser útil para estratégias de marketing e planejamento de estoque.\n",
    "   \n",
    "#  Frequência e Repetição de Compras\n",
    "   - **Pedidos repetidos e primeiros itens no carrinho**: Identificamos que muitos consumidores adicionam certos produtos repetidamente aos seus carrinhos, sendo esses itens frequentemente os primeiros a serem escolhidos. Isso fornece insights sobre os hábitos de compra e a preferência dos consumidores por produtos específicos, além de indicar que os consumidores têm certos produtos \"favoritos\" que compram de forma recorrente.\n",
    "   \n",
    "   - **Proporção de pedidos repetidos**: Calculamos a proporção de pedidos repetidos por produto e por cliente, revelando que certos produtos têm uma alta taxa de repetição. Além disso, a análise da repetição de pedidos por cliente indicou que muitos clientes tendem a comprar de forma recorrente, o que pode ser explorado em estratégias de fidelização.\n",
    "\n",
    "#  Análise de Produtos\n",
    "   - **Produtos mais populares**: Identificamos os 20 produtos mais comprados, fornecendo uma visão clara dos itens mais consumidos e preferidos pelos clientes. Essa informação é valiosa para otimização de estoque e planejamento de promoções.\n",
    "   \n",
    "   - **Produtos colocados primeiro no carrinho**: A análise de quais produtos são os primeiros a serem colocados no carrinho revelou uma lista dos itens que mais atraem os consumidores logo no início da sua jornada de compra, ajudando a entender a disposição inicial do cliente para gastar.\n",
    "\n",
    "#  Distribuição do Número de Itens por Pedido\n",
    "   - Analisamos a distribuição de itens comprados por pedido, revelando que a maioria dos clientes realiza compras com uma quantidade moderada de itens no carrinho, com uma variação interessante na quantidade de itens comprados por pedido.\n",
    "\n",
    "# Insights de Marketing e Estoque\n",
    "   - As descobertas sobre os horários de pico e os produtos mais populares fornecem informações valiosas para campanhas de marketing direcionadas, promoções específicas e estratégias de estoque.\n",
    "   - A identificação de produtos com alta taxa de repetição também pode ajudar a criar ofertas personalizadas para clientes frequentes e melhorar as estratégias de fidelização.\n",
    "\n",
    "---\n",
    "\n",
    "# Limitações e Possíveis Melhorias\n",
    "- O projeto não abordou dados fora das tabelas fornecidas, como dados de feedback de clientes ou variáveis de preço, que poderiam agregar valor à análise.\n",
    "- O trabalho pode ser expandido para incluir análises preditivas, como prever o comportamento de compra futuro dos clientes com base em seus hábitos passados.\n",
    "- A análise de segmentação de clientes pode fornecer uma visão mais detalhada sobre diferentes grupos de consumidores, permitindo estratégias mais segmentadas.\n",
    "\n",
    "# Considerações Finais\n",
    "O projeto permitiu compreender em detalhes o comportamento de compra dos clientes no aplicativo da Instacart, oferecendo insights que podem ser aplicados para melhorar a experiência do usuário, otimizar o estoque e criar estratégias de marketing mais eficazes. A utilização de dados e a análise de padrões de comportamento são essenciais para qualquer plataforma de e-commerce, e as descobertas feitas aqui fornecem uma base sólida para decisões informadas no futuro.\n",
    "\n"
   ]
  },
  {
   "cell_type": "code",
   "execution_count": null,
   "id": "d6096b2d",
   "metadata": {},
   "outputs": [],
   "source": []
  }
 ],
 "metadata": {
  "ExecuteTimeLog": [
   {
    "duration": 2230,
    "start_time": "2025-03-17T16:14:50.297Z"
   },
   {
    "duration": 3,
    "start_time": "2025-03-17T16:15:13.163Z"
   },
   {
    "duration": 564,
    "start_time": "2025-03-17T16:15:16.404Z"
   },
   {
    "duration": 2477,
    "start_time": "2025-03-17T16:16:53.663Z"
   },
   {
    "duration": 2338,
    "start_time": "2025-03-17T16:17:58.550Z"
   },
   {
    "duration": 22,
    "start_time": "2025-03-17T16:18:00.890Z"
   },
   {
    "duration": 9,
    "start_time": "2025-03-17T16:18:04.593Z"
   },
   {
    "duration": 7,
    "start_time": "2025-03-17T16:18:07.334Z"
   },
   {
    "duration": 8,
    "start_time": "2025-03-17T16:18:10.801Z"
   },
   {
    "duration": 7,
    "start_time": "2025-03-17T16:18:13.300Z"
   },
   {
    "duration": 181,
    "start_time": "2025-03-18T03:31:04.266Z"
   },
   {
    "duration": 2181,
    "start_time": "2025-03-18T03:31:07.830Z"
   },
   {
    "duration": 6,
    "start_time": "2025-03-18T03:31:10.094Z"
   },
   {
    "duration": 1051,
    "start_time": "2025-03-18T03:32:19.045Z"
   },
   {
    "duration": 11,
    "start_time": "2025-03-18T03:32:22.597Z"
   },
   {
    "duration": 12,
    "start_time": "2025-03-18T03:32:27.075Z"
   },
   {
    "duration": 8,
    "start_time": "2025-03-18T03:32:29.819Z"
   },
   {
    "duration": 9,
    "start_time": "2025-03-18T03:32:32.069Z"
   },
   {
    "duration": 10,
    "start_time": "2025-03-18T03:32:34.686Z"
   },
   {
    "duration": 2,
    "start_time": "2025-03-18T03:33:04.037Z"
   },
   {
    "duration": 95,
    "start_time": "2025-03-18T03:33:11.175Z"
   },
   {
    "duration": 104,
    "start_time": "2025-03-18T03:34:07.062Z"
   },
   {
    "duration": 65,
    "start_time": "2025-03-18T03:35:00.657Z"
   },
   {
    "duration": 91,
    "start_time": "2025-03-18T03:35:20.406Z"
   },
   {
    "duration": 46,
    "start_time": "2025-03-18T03:36:35.187Z"
   },
   {
    "duration": 9,
    "start_time": "2025-03-18T03:36:59.245Z"
   },
   {
    "duration": 90,
    "start_time": "2025-03-18T03:37:03.093Z"
   },
   {
    "duration": 87,
    "start_time": "2025-03-18T03:37:34.732Z"
   },
   {
    "duration": 12,
    "start_time": "2025-03-18T03:38:02.174Z"
   },
   {
    "duration": 54,
    "start_time": "2025-03-18T03:38:56.652Z"
   },
   {
    "duration": 4,
    "start_time": "2025-03-18T03:39:16.000Z"
   },
   {
    "duration": 50,
    "start_time": "2025-03-18T03:39:32.895Z"
   },
   {
    "duration": 47,
    "start_time": "2025-03-18T03:39:46.672Z"
   },
   {
    "duration": 13,
    "start_time": "2025-03-18T03:41:00.332Z"
   },
   {
    "duration": 7,
    "start_time": "2025-03-18T03:41:19.893Z"
   },
   {
    "duration": 22,
    "start_time": "2025-03-18T03:41:42.126Z"
   },
   {
    "duration": 24,
    "start_time": "2025-03-18T03:42:02.099Z"
   },
   {
    "duration": 4,
    "start_time": "2025-03-18T03:43:02.370Z"
   },
   {
    "duration": 5,
    "start_time": "2025-03-18T03:43:17.672Z"
   },
   {
    "duration": 169,
    "start_time": "2025-03-18T22:42:56.499Z"
   },
   {
    "duration": 2138,
    "start_time": "2025-03-18T22:43:05.035Z"
   },
   {
    "duration": 1071,
    "start_time": "2025-03-18T22:43:08.658Z"
   },
   {
    "duration": 11,
    "start_time": "2025-03-18T22:43:10.874Z"
   },
   {
    "duration": 11,
    "start_time": "2025-03-18T22:43:13.145Z"
   },
   {
    "duration": 7,
    "start_time": "2025-03-18T22:43:15.244Z"
   },
   {
    "duration": 8,
    "start_time": "2025-03-18T22:43:17.430Z"
   },
   {
    "duration": 10,
    "start_time": "2025-03-18T22:43:20.453Z"
   },
   {
    "duration": 97,
    "start_time": "2025-03-18T22:43:24.562Z"
   },
   {
    "duration": 9,
    "start_time": "2025-03-18T22:43:27.634Z"
   },
   {
    "duration": 66,
    "start_time": "2025-03-18T22:43:30.292Z"
   },
   {
    "duration": 3,
    "start_time": "2025-03-18T22:43:33.223Z"
   },
   {
    "duration": 51,
    "start_time": "2025-03-18T22:43:35.508Z"
   },
   {
    "duration": 45,
    "start_time": "2025-03-18T22:44:58.609Z"
   },
   {
    "duration": 3,
    "start_time": "2025-03-18T22:45:00.836Z"
   },
   {
    "duration": 90,
    "start_time": "2025-03-18T22:48:20.995Z"
   },
   {
    "duration": 4,
    "start_time": "2025-03-18T22:48:23.012Z"
   },
   {
    "duration": 84,
    "start_time": "2025-03-18T22:49:28.296Z"
   },
   {
    "duration": 2,
    "start_time": "2025-03-18T22:49:30.346Z"
   },
   {
    "duration": 48,
    "start_time": "2025-03-18T22:49:36.570Z"
   },
   {
    "duration": 74,
    "start_time": "2025-03-18T22:49:55.865Z"
   },
   {
    "duration": 72,
    "start_time": "2025-03-18T22:50:03.680Z"
   },
   {
    "duration": 7,
    "start_time": "2025-03-18T22:50:08.120Z"
   },
   {
    "duration": 79,
    "start_time": "2025-03-18T22:50:10.698Z"
   },
   {
    "duration": 3,
    "start_time": "2025-03-18T22:50:12.571Z"
   },
   {
    "duration": 70,
    "start_time": "2025-03-18T22:50:20.128Z"
   },
   {
    "duration": 55,
    "start_time": "2025-03-18T22:51:05.391Z"
   },
   {
    "duration": 69,
    "start_time": "2025-03-18T22:51:15.702Z"
   },
   {
    "duration": 8,
    "start_time": "2025-03-18T22:51:21.321Z"
   },
   {
    "duration": 88,
    "start_time": "2025-03-18T22:51:23.635Z"
   },
   {
    "duration": 3,
    "start_time": "2025-03-18T22:51:26.379Z"
   },
   {
    "duration": 52,
    "start_time": "2025-03-18T22:51:28.833Z"
   },
   {
    "duration": 14,
    "start_time": "2025-03-18T22:51:56.756Z"
   },
   {
    "duration": 7,
    "start_time": "2025-03-18T22:52:05.116Z"
   },
   {
    "duration": 25,
    "start_time": "2025-03-18T22:52:13.311Z"
   },
   {
    "duration": 4,
    "start_time": "2025-03-18T22:52:50.344Z"
   },
   {
    "duration": 231,
    "start_time": "2025-03-18T22:53:30.654Z"
   },
   {
    "duration": 13,
    "start_time": "2025-03-18T22:53:42.524Z"
   },
   {
    "duration": 4,
    "start_time": "2025-03-18T22:53:48.694Z"
   },
   {
    "duration": 758,
    "start_time": "2025-03-18T22:54:14.352Z"
   },
   {
    "duration": 778,
    "start_time": "2025-03-18T22:54:32.321Z"
   },
   {
    "duration": 6,
    "start_time": "2025-03-18T22:54:49.174Z"
   },
   {
    "duration": 4,
    "start_time": "2025-03-18T22:55:25.268Z"
   },
   {
    "duration": 5,
    "start_time": "2025-03-18T22:55:36.069Z"
   },
   {
    "duration": 85,
    "start_time": "2025-03-18T22:56:20.096Z"
   },
   {
    "duration": 6,
    "start_time": "2025-03-18T22:56:24.768Z"
   },
   {
    "duration": 93,
    "start_time": "2025-03-18T22:56:38.518Z"
   },
   {
    "duration": 6,
    "start_time": "2025-03-18T22:56:43.609Z"
   },
   {
    "duration": 51,
    "start_time": "2025-03-18T22:57:07.270Z"
   },
   {
    "duration": 49,
    "start_time": "2025-03-18T22:57:39.154Z"
   },
   {
    "duration": 3,
    "start_time": "2025-03-18T22:57:41.101Z"
   },
   {
    "duration": 678,
    "start_time": "2025-03-18T22:58:45.868Z"
   },
   {
    "duration": 732,
    "start_time": "2025-03-18T23:01:14.428Z"
   },
   {
    "duration": 672,
    "start_time": "2025-03-18T23:01:18.229Z"
   },
   {
    "duration": 6,
    "start_time": "2025-03-18T23:01:57.386Z"
   },
   {
    "duration": 2,
    "start_time": "2025-03-18T23:02:09.025Z"
   },
   {
    "duration": 6,
    "start_time": "2025-03-18T23:02:47.463Z"
   },
   {
    "duration": 7,
    "start_time": "2025-03-18T23:02:54.696Z"
   },
   {
    "duration": 6,
    "start_time": "2025-03-18T23:03:38.337Z"
   },
   {
    "duration": 8,
    "start_time": "2025-03-18T23:03:40.857Z"
   },
   {
    "duration": 15,
    "start_time": "2025-03-18T23:04:20.606Z"
   },
   {
    "duration": 16,
    "start_time": "2025-03-18T23:05:13.078Z"
   },
   {
    "duration": 7,
    "start_time": "2025-03-18T23:05:56.823Z"
   },
   {
    "duration": 8,
    "start_time": "2025-03-18T23:06:39.416Z"
   },
   {
    "duration": 14,
    "start_time": "2025-03-18T23:07:00.982Z"
   },
   {
    "duration": 14,
    "start_time": "2025-03-18T23:07:58.036Z"
   },
   {
    "duration": 8,
    "start_time": "2025-03-18T23:08:25.561Z"
   },
   {
    "duration": 12,
    "start_time": "2025-03-18T23:09:19.327Z"
   },
   {
    "duration": 16,
    "start_time": "2025-03-18T23:11:31.086Z"
   },
   {
    "duration": 408,
    "start_time": "2025-03-18T23:11:46.673Z"
   },
   {
    "duration": 208,
    "start_time": "2025-03-18T23:12:02.248Z"
   },
   {
    "duration": 14,
    "start_time": "2025-03-18T23:12:18.063Z"
   },
   {
    "duration": 15,
    "start_time": "2025-03-18T23:12:40.617Z"
   },
   {
    "duration": 40,
    "start_time": "2025-03-18T23:13:02.106Z"
   },
   {
    "duration": 7,
    "start_time": "2025-03-18T23:13:27.411Z"
   },
   {
    "duration": 13,
    "start_time": "2025-03-18T23:13:52.835Z"
   },
   {
    "duration": 8,
    "start_time": "2025-03-18T23:14:16.443Z"
   },
   {
    "duration": 8,
    "start_time": "2025-03-18T23:14:31.015Z"
   },
   {
    "duration": 25,
    "start_time": "2025-03-18T23:14:55.158Z"
   },
   {
    "duration": 6,
    "start_time": "2025-03-18T23:16:45.606Z"
   },
   {
    "duration": 491,
    "start_time": "2025-03-18T23:17:59.496Z"
   },
   {
    "duration": 242,
    "start_time": "2025-03-18T23:18:54.089Z"
   },
   {
    "duration": 66,
    "start_time": "2025-03-18T23:20:22.477Z"
   },
   {
    "duration": 5,
    "start_time": "2025-03-18T23:20:40.978Z"
   },
   {
    "duration": 5,
    "start_time": "2025-03-18T23:21:09.564Z"
   },
   {
    "duration": 248,
    "start_time": "2025-03-18T23:22:27.136Z"
   },
   {
    "duration": 293,
    "start_time": "2025-03-18T23:23:05.651Z"
   },
   {
    "duration": 272,
    "start_time": "2025-03-18T23:23:35.219Z"
   },
   {
    "duration": 42,
    "start_time": "2025-03-18T23:24:24.121Z"
   },
   {
    "duration": 15,
    "start_time": "2025-03-18T23:25:10.425Z"
   },
   {
    "duration": 14,
    "start_time": "2025-03-18T23:26:05.769Z"
   },
   {
    "duration": 14,
    "start_time": "2025-03-18T23:26:27.197Z"
   },
   {
    "duration": 1303,
    "start_time": "2025-03-18T23:27:11.009Z"
   },
   {
    "duration": 319,
    "start_time": "2025-03-18T23:27:53.819Z"
   },
   {
    "duration": 241,
    "start_time": "2025-03-18T23:28:01.839Z"
   },
   {
    "duration": 1259,
    "start_time": "2025-03-18T23:28:44.039Z"
   },
   {
    "duration": 1275,
    "start_time": "2025-03-18T23:28:58.140Z"
   },
   {
    "duration": 1087,
    "start_time": "2025-03-18T23:29:53.835Z"
   },
   {
    "duration": 1284,
    "start_time": "2025-03-18T23:30:23.543Z"
   },
   {
    "duration": 909,
    "start_time": "2025-03-18T23:31:00.575Z"
   },
   {
    "duration": 836,
    "start_time": "2025-03-18T23:31:12.587Z"
   },
   {
    "duration": 2163,
    "start_time": "2025-03-18T23:31:34.937Z"
   },
   {
    "duration": 2199,
    "start_time": "2025-03-18T23:31:49.197Z"
   },
   {
    "duration": 336,
    "start_time": "2025-03-18T23:32:24.866Z"
   },
   {
    "duration": 327,
    "start_time": "2025-03-18T23:32:28.219Z"
   },
   {
    "duration": 49,
    "start_time": "2025-03-18T23:32:57.357Z"
   },
   {
    "duration": 46,
    "start_time": "2025-03-18T23:33:29.532Z"
   },
   {
    "duration": 10,
    "start_time": "2025-03-18T23:34:38.347Z"
   },
   {
    "duration": 9,
    "start_time": "2025-03-18T23:35:29.272Z"
   },
   {
    "duration": 158,
    "start_time": "2025-03-22T20:10:29.920Z"
   },
   {
    "duration": 2087,
    "start_time": "2025-03-22T20:10:38.999Z"
   },
   {
    "duration": 1105,
    "start_time": "2025-03-22T20:10:41.284Z"
   },
   {
    "duration": 12,
    "start_time": "2025-03-22T20:10:44.023Z"
   },
   {
    "duration": 11,
    "start_time": "2025-03-22T20:10:45.173Z"
   },
   {
    "duration": 8,
    "start_time": "2025-03-22T20:10:46.000Z"
   },
   {
    "duration": 8,
    "start_time": "2025-03-22T20:10:46.532Z"
   },
   {
    "duration": 8,
    "start_time": "2025-03-22T20:10:46.867Z"
   },
   {
    "duration": 111,
    "start_time": "2025-03-22T20:10:49.584Z"
   },
   {
    "duration": 9,
    "start_time": "2025-03-22T20:10:50.893Z"
   },
   {
    "duration": 64,
    "start_time": "2025-03-22T20:10:51.977Z"
   },
   {
    "duration": 3,
    "start_time": "2025-03-22T20:10:52.390Z"
   },
   {
    "duration": 59,
    "start_time": "2025-03-22T20:10:52.765Z"
   },
   {
    "duration": 16,
    "start_time": "2025-03-22T20:10:53.917Z"
   },
   {
    "duration": 8,
    "start_time": "2025-03-22T20:10:54.272Z"
   },
   {
    "duration": 22,
    "start_time": "2025-03-22T20:10:54.891Z"
   },
   {
    "duration": 22,
    "start_time": "2025-03-22T20:10:55.237Z"
   },
   {
    "duration": 4,
    "start_time": "2025-03-22T20:10:57.836Z"
   },
   {
    "duration": 5,
    "start_time": "2025-03-22T20:10:58.318Z"
   },
   {
    "duration": 5,
    "start_time": "2025-03-22T20:11:00.418Z"
   },
   {
    "duration": 4,
    "start_time": "2025-03-22T20:11:00.790Z"
   },
   {
    "duration": 778,
    "start_time": "2025-03-22T20:11:03.428Z"
   },
   {
    "duration": 699,
    "start_time": "2025-03-22T20:11:04.208Z"
   },
   {
    "duration": 5,
    "start_time": "2025-03-22T20:11:05.998Z"
   },
   {
    "duration": 6,
    "start_time": "2025-03-22T20:11:06.835Z"
   },
   {
    "duration": 6,
    "start_time": "2025-03-22T20:11:09.317Z"
   },
   {
    "duration": 6,
    "start_time": "2025-03-22T20:11:10.410Z"
   },
   {
    "duration": 9,
    "start_time": "2025-03-22T20:11:11.354Z"
   },
   {
    "duration": 16,
    "start_time": "2025-03-22T20:11:12.677Z"
   },
   {
    "duration": 13,
    "start_time": "2025-03-22T20:11:13.225Z"
   },
   {
    "duration": 18,
    "start_time": "2025-03-22T20:11:14.702Z"
   },
   {
    "duration": 30,
    "start_time": "2025-03-22T20:11:15.308Z"
   },
   {
    "duration": 13,
    "start_time": "2025-03-22T20:11:16.504Z"
   },
   {
    "duration": 65,
    "start_time": "2025-03-22T20:11:18.080Z"
   },
   {
    "duration": 30,
    "start_time": "2025-03-22T20:12:07.080Z"
   },
   {
    "duration": 267,
    "start_time": "2025-03-22T20:12:42.901Z"
   },
   {
    "duration": 83,
    "start_time": "2025-03-22T20:14:37.388Z"
   },
   {
    "duration": 399,
    "start_time": "2025-03-23T10:12:22.333Z"
   },
   {
    "duration": 1030,
    "start_time": "2025-03-23T10:12:22.735Z"
   },
   {
    "duration": 12,
    "start_time": "2025-03-23T10:12:23.766Z"
   },
   {
    "duration": 10,
    "start_time": "2025-03-23T10:12:23.780Z"
   },
   {
    "duration": 7,
    "start_time": "2025-03-23T10:12:23.791Z"
   },
   {
    "duration": 8,
    "start_time": "2025-03-23T10:12:23.799Z"
   },
   {
    "duration": 8,
    "start_time": "2025-03-23T10:12:23.808Z"
   },
   {
    "duration": 93,
    "start_time": "2025-03-23T10:12:23.842Z"
   },
   {
    "duration": 14,
    "start_time": "2025-03-23T10:12:23.936Z"
   },
   {
    "duration": 65,
    "start_time": "2025-03-23T10:12:23.952Z"
   },
   {
    "duration": 25,
    "start_time": "2025-03-23T10:12:24.018Z"
   },
   {
    "duration": 53,
    "start_time": "2025-03-23T10:12:24.044Z"
   },
   {
    "duration": 12,
    "start_time": "2025-03-23T10:12:24.099Z"
   },
   {
    "duration": 6,
    "start_time": "2025-03-23T10:12:24.113Z"
   },
   {
    "duration": 38,
    "start_time": "2025-03-23T10:12:24.121Z"
   },
   {
    "duration": 22,
    "start_time": "2025-03-23T10:12:24.161Z"
   },
   {
    "duration": 5,
    "start_time": "2025-03-23T10:12:24.184Z"
   },
   {
    "duration": 5,
    "start_time": "2025-03-23T10:12:24.190Z"
   },
   {
    "duration": 5,
    "start_time": "2025-03-23T10:12:24.196Z"
   },
   {
    "duration": 4,
    "start_time": "2025-03-23T10:12:24.203Z"
   },
   {
    "duration": 783,
    "start_time": "2025-03-23T10:12:24.208Z"
   },
   {
    "duration": 658,
    "start_time": "2025-03-23T10:12:24.992Z"
   },
   {
    "duration": 5,
    "start_time": "2025-03-23T10:12:25.652Z"
   },
   {
    "duration": 6,
    "start_time": "2025-03-23T10:12:25.659Z"
   },
   {
    "duration": 6,
    "start_time": "2025-03-23T10:12:25.667Z"
   },
   {
    "duration": 7,
    "start_time": "2025-03-23T10:12:25.675Z"
   },
   {
    "duration": 7,
    "start_time": "2025-03-23T10:12:25.683Z"
   },
   {
    "duration": 49,
    "start_time": "2025-03-23T10:12:25.694Z"
   },
   {
    "duration": 13,
    "start_time": "2025-03-23T10:12:25.745Z"
   },
   {
    "duration": 15,
    "start_time": "2025-03-23T10:12:25.760Z"
   },
   {
    "duration": 30,
    "start_time": "2025-03-23T10:12:25.776Z"
   },
   {
    "duration": 37,
    "start_time": "2025-03-23T10:12:25.807Z"
   },
   {
    "duration": 65,
    "start_time": "2025-03-23T10:12:25.846Z"
   },
   {
    "duration": 2,
    "start_time": "2025-03-23T10:12:25.913Z"
   },
   {
    "duration": 44,
    "start_time": "2025-03-23T10:12:25.917Z"
   },
   {
    "duration": 6,
    "start_time": "2025-03-23T10:12:25.964Z"
   },
   {
    "duration": 502,
    "start_time": "2025-03-23T10:12:25.972Z"
   },
   {
    "duration": 256,
    "start_time": "2025-03-23T10:12:26.475Z"
   },
   {
    "duration": 89,
    "start_time": "2025-03-23T10:12:26.733Z"
   },
   {
    "duration": 220,
    "start_time": "2025-03-23T10:12:26.823Z"
   },
   {
    "duration": 232,
    "start_time": "2025-03-23T10:12:27.045Z"
   },
   {
    "duration": 304,
    "start_time": "2025-03-23T10:12:27.279Z"
   },
   {
    "duration": 1304,
    "start_time": "2025-03-23T10:12:27.585Z"
   },
   {
    "duration": 298,
    "start_time": "2025-03-23T10:12:28.891Z"
   },
   {
    "duration": 1333,
    "start_time": "2025-03-23T10:12:29.191Z"
   },
   {
    "duration": 1140,
    "start_time": "2025-03-23T10:12:30.526Z"
   },
   {
    "duration": 890,
    "start_time": "2025-03-23T10:12:31.668Z"
   },
   {
    "duration": 2118,
    "start_time": "2025-03-23T10:12:32.560Z"
   },
   {
    "duration": 2,
    "start_time": "2025-03-23T10:12:34.680Z"
   },
   {
    "duration": 336,
    "start_time": "2025-03-23T10:12:34.684Z"
   },
   {
    "duration": 3,
    "start_time": "2025-03-23T10:12:35.022Z"
   },
   {
    "duration": 51,
    "start_time": "2025-03-23T10:12:35.028Z"
   }
  ],
  "colab": {
   "provenance": []
  },
  "kernelspec": {
   "display_name": "Python 3 (ipykernel)",
   "language": "python",
   "name": "python3"
  },
  "language_info": {
   "codemirror_mode": {
    "name": "ipython",
    "version": 3
   },
   "file_extension": ".py",
   "mimetype": "text/x-python",
   "name": "python",
   "nbconvert_exporter": "python",
   "pygments_lexer": "ipython3",
   "version": "3.9.19"
  },
  "toc": {
   "base_numbering": 1,
   "nav_menu": {},
   "number_sections": true,
   "sideBar": true,
   "skip_h1_title": true,
   "title_cell": "Table of Contents",
   "title_sidebar": "Contents",
   "toc_cell": false,
   "toc_position": {},
   "toc_section_display": true,
   "toc_window_display": false
  },
  "vscode": {
   "interpreter": {
    "hash": "01a7be9ec63e704a62cefc5fe7a4756944464ee731be31632bdf42a4cb4688cf"
   }
  }
 },
 "nbformat": 4,
 "nbformat_minor": 5
}
